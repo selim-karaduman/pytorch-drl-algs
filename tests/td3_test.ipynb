{
 "cells": [
  {
   "cell_type": "code",
   "execution_count": 23,
   "metadata": {},
   "outputs": [
    {
     "name": "stdout",
     "output_type": "stream",
     "text": [
      "The autoreload extension is already loaded. To reload it, use:\n",
      "  %reload_ext autoreload\n"
     ]
    }
   ],
   "source": [
    "import sys; sys.path.insert(0, '..')\n",
    "\n",
    "import gym\n",
    "import sys\n",
    "import torch\n",
    "import tester\n",
    "import numpy as np\n",
    "import matplotlib.pyplot as plt\n",
    "from IPython.display import clear_output, Javascript\n",
    "\n",
    "import pytorch_drl.models.ddpg_models as models\n",
    "from pytorch_drl.utils.exploration import *\n",
    "from pytorch_drl.algs.td3 import TD3\n",
    "\n",
    "%matplotlib inline\n",
    "%load_ext autoreload\n",
    "%autoreload 2"
   ]
  },
  {
   "cell_type": "code",
   "execution_count": 24,
   "metadata": {},
   "outputs": [
    {
     "name": "stdout",
     "output_type": "stream",
     "text": [
      "Device: cuda:0\n"
     ]
    }
   ],
   "source": [
    "device = torch.device(\"cuda:0\" if torch.cuda.is_available() else \"cpu\")#\n",
    "#device = \"cpu\"\n",
    "print(\"Device:\", device)\n"
   ]
  },
  {
   "cell_type": "markdown",
   "metadata": {},
   "source": [
    "## 1. Define Utils:\n",
    "\n",
    "### 1.1 Plotting:"
   ]
  },
  {
   "cell_type": "code",
   "execution_count": 25,
   "metadata": {},
   "outputs": [],
   "source": [
    "def mean_filter(arr, filter_len):\n",
    "    arr = np.concatenate([[arr[0]]*(filter_len-1), arr])\n",
    "    filter_arr = np.ones(filter_len)/filter_len\n",
    "    arr = arr\n",
    "    output = list()\n",
    "    for i in range(filter_len-1, len(arr)):\n",
    "        conv = np.sum(filter_arr * arr[i-filter_len+1:i+1])\n",
    "        output.append(conv)\n",
    "    return output\n",
    "\n",
    "def plot(scores, n=None):\n",
    "    if n is not None:\n",
    "        scores = mean_filter(scores, n)\n",
    "    clear_output(True)\n",
    "    fig = plt.figure()\n",
    "    ax = fig.add_subplot(111)\n",
    "    plt.plot(np.arange(len(scores)), scores)\n",
    "    plt.ylabel('Score')\n",
    "    plt.xlabel('Episode')\n",
    "    plt.show()"
   ]
  },
  {
   "cell_type": "markdown",
   "metadata": {},
   "source": [
    "## 2. Create environment"
   ]
  },
  {
   "cell_type": "code",
   "execution_count": 26,
   "metadata": {},
   "outputs": [
    {
     "name": "stdout",
     "output_type": "stream",
     "text": [
      "State size: 3 \n",
      "Action size: 1\n",
      "[2.] [-2.]\n"
     ]
    }
   ],
   "source": [
    "env_name = \"Pendulum-v0\"\n",
    "env = gym.make(env_name)\n",
    "env.seed(0)\n",
    "\n",
    "state_size =  env.observation_space.shape[0]\n",
    "action_size = env.action_space.shape[0]\n",
    "\n",
    "print(\"State size:\", state_size, \"\\nAction size:\", action_size)\n",
    "print(env.action_space.high, env.action_space.low)"
   ]
  },
  {
   "cell_type": "markdown",
   "metadata": {},
   "source": [
    "## 3. Define parameters"
   ]
  },
  {
   "cell_type": "code",
   "execution_count": 6,
   "metadata": {},
   "outputs": [],
   "source": [
    "max_t = 1000\n",
    "n_episodes = 2_000\n",
    "seed = 0"
   ]
  },
  {
   "cell_type": "markdown",
   "metadata": {},
   "source": [
    "## 4. TD3 Test\n",
    "\n"
   ]
  },
  {
   "cell_type": "code",
   "execution_count": null,
   "metadata": {
    "scrolled": true
   },
   "outputs": [],
   "source": [
    "value_net_constructor = models.DDPGValueNetwork\n",
    "value_net_args = (state_size, action_size, 256, 256)\n",
    "\n",
    "policy_net_constructor = models.DDPGPolicyNetwork\n",
    "policy_net_args = (state_size, action_size, 256, 256)\n",
    "\n",
    "max_act = env.action_space.high\n",
    "min_act = env.action_space.low\n",
    "\n",
    "noise_proc = Gaussian(x_size=env.action_space.shape, \n",
    "                      mu=0., sigma_init=0.1, sigma_final=1, \n",
    "                      sigma_horizon=1)\n",
    "\n",
    "action = env.action_space.sample()\n",
    "#noise_proc = OrnsteinUhlenbeck(x0=np.zeros_like(action))\n",
    "\n",
    "lr_val = 1e-3\n",
    "lr_pol = 1e-3\n",
    "\n",
    "\n",
    "agent = TD3(policy_net_constructor=policy_net_constructor,\n",
    "            policy_net_args=policy_net_args,\n",
    "            value_net_constructor=value_net_constructor,\n",
    "            value_net_args=value_net_args,\n",
    "            policy_noise=0.2,\n",
    "            noise_clip=0.5,\n",
    "            gamma=0.99, \n",
    "            lr_val=lr_val,\n",
    "            lr_pol=lr_pol,\n",
    "            prioritized_replay=False,\n",
    "            is_beta=0.6,\n",
    "            beta_horz=10e5,\n",
    "            pr_alpha=0.0,\n",
    "            buf_size=int(1e6),\n",
    "            batch_size=128,\n",
    "            tau=1e-2,\n",
    "            device=device,\n",
    "            normalize_rewards=False,\n",
    "            max_grad_norm=0.5,\n",
    "            n=1,\n",
    "            nstep=False,\n",
    "            min_act=min_act,\n",
    "            max_act=max_act,\n",
    "            warm_up=1e4,\n",
    "            noise_process=noise_proc,\n",
    "            update_interval=2,\n",
    "            seed=0\n",
    "                )\n",
    "\n",
    "# train the agent\n",
    "scores = tester.train_agent(agent, env, max_t, n_episodes,\n",
    "                            \"td3_pendulum\", render_freq=1000, log=True, max_score=-200, test_freq=20)\n",
    "# plot the training:\n",
    "plot(scores)"
   ]
  },
  {
   "cell_type": "code",
   "execution_count": 12,
   "metadata": {},
   "outputs": [
    {
     "data": {
      "image/png": "[encoded data removed]",
      "text/plain": [
       "<Figure size 432x288 with 1 Axes>"
      ]
     },
     "metadata": {
      "needs_background": "light"
     },
     "output_type": "display_data"
    }
   ],
   "source": [
    "plot(scores, 100)"
   ]
  },
  {
   "cell_type": "markdown",
   "metadata": {},
   "source": [
    "### 4.1 Trained Agent Demonstration"
   ]
  },
  {
   "cell_type": "code",
   "execution_count": 13,
   "metadata": {},
   "outputs": [
    {
     "name": "stderr",
     "output_type": "stream",
     "text": [
      "/home/selo/anaconda3/envs/ml-agents/lib/python3.6/site-packages/torch/nn/functional.py:1347: UserWarning: nn.functional.tanh is deprecated. Use torch.tanh instead.\n",
      "  warnings.warn(\"nn.functional.tanh is deprecated. Use torch.tanh instead.\")\n"
     ]
    },
    {
     "name": "stdout",
     "output_type": "stream",
     "text": [
      "-3.3173269145751303\n",
      "-126.75916977548012\n",
      "-116.70300980333347\n",
      "-126.41572431523988\n",
      "-129.70688805872982\n"
     ]
    },
    {
     "data": {
      "text/plain": [
       "-100.58042377347168"
      ]
     },
     "execution_count": 13,
     "metadata": {},
     "output_type": "execute_result"
    }
   ],
   "source": [
    "tester.test_agent(agent, env, max_t, render=True, num_of_episodes=5, log=True)"
   ]
  }
 ],
 "metadata": {
  "kernelspec": {
   "display_name": "Python (ml-agents)",
   "language": "python",
   "name": "ml-agents"
  },
  "language_info": {
   "codemirror_mode": {
    "name": "ipython",
    "version": 3
   },
   "file_extension": ".py",
   "mimetype": "text/x-python",
   "name": "python",
   "nbconvert_exporter": "python",
   "pygments_lexer": "ipython3",
   "version": "3.6.10"
  }
 },
 "nbformat": 4,
 "nbformat_minor": 2
}
