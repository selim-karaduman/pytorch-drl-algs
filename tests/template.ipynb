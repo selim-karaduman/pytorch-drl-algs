{
 "cells": [
  {
   "cell_type": "code",
   "execution_count": 2,
   "metadata": {},
   "outputs": [],
   "source": [
    "import gym\n",
    "import sys\n",
    "import torch\n",
    "import tester\n",
    "import numpy as np\n",
    "import matplotlib.pyplot as plt\n",
    "from IPython.display import clear_output, Javascript\n",
    "\n",
    "import sys; sys.path.insert(0, '..')\n",
    "import pytorch_drl.models.rainbow_models as models\n",
    "\n",
    "from pytorch_drl.algs.rainbow import Rainbow\n",
    "\n",
    "%matplotlib inline\n",
    "%load_ext autoreload\n",
    "%autoreload 2"
   ]
  },
  {
   "cell_type": "code",
   "execution_count": null,
   "metadata": {},
   "outputs": [],
   "source": [
    "device = \"cpu\"#torch.device(\"cuda:0\" if torch.cuda.is_available() else \"cpu\")\n",
    "print(\"Device:\", device)"
   ]
  },
  {
   "cell_type": "markdown",
   "metadata": {},
   "source": [
    "## 1. Define Utils:\n",
    "\n",
    "### 1.1 Plotting:"
   ]
  },
  {
   "cell_type": "code",
   "execution_count": 4,
   "metadata": {},
   "outputs": [],
   "source": [
    "def mean_filter(arr, filter_len):\n",
    "    arr = np.concatenate([[0]*(filter_len-1), arr])\n",
    "    filter_arr = np.ones(filter_len)/filter_len\n",
    "    arr = arr\n",
    "    output = list()\n",
    "    for i in range(filter_len-1, len(arr)):\n",
    "        conv = np.sum(filter_arr * arr[i-filter_len+1:i+1])\n",
    "        output.append(conv)\n",
    "    return output\n",
    "\n",
    "def plot(scores, n=None):\n",
    "    if n is not None:\n",
    "        scores = mean_filter(scores, n)\n",
    "    clear_output(True)\n",
    "    fig = plt.figure()\n",
    "    ax = fig.add_subplot(111)\n",
    "    plt.plot(np.arange(len(scores)), scores)\n",
    "    plt.ylabel('Score')\n",
    "    plt.xlabel('Episode')\n",
    "    plt.show()"
   ]
  },
  {
   "cell_type": "code",
   "execution_count": null,
   "metadata": {},
   "outputs": [],
   "source": [
    "def copy_network(network1, network2):\n",
    "    network2.load_state_dict(network1.state_dict())"
   ]
  },
  {
   "cell_type": "markdown",
   "metadata": {},
   "source": [
    "## 2. Create environment"
   ]
  },
  {
   "cell_type": "code",
   "execution_count": null,
   "metadata": {},
   "outputs": [],
   "source": [
    "env_name = \"LunarLander-v2\"\n",
    "env = gym.make(env_name)\n",
    "env.seed(0)\n",
    "print('State shape: ', env.observation_space.shape)\n",
    "print('Number of actions: ', env.action_space.n)"
   ]
  },
  {
   "cell_type": "markdown",
   "metadata": {},
   "source": [
    "## 3. Define networks for different algorithms"
   ]
  },
  {
   "cell_type": "code",
   "execution_count": null,
   "metadata": {},
   "outputs": [],
   "source": [
    "rainbow_model1 = models.RainbowNetwork(state_size, action_size, atoms)\n",
    "rainbow_model2 = models.RainbowNetwork(state_size, action_size, atoms)\n",
    "copy_network(rainbow_model1, rainbow_model2)"
   ]
  },
  {
   "cell_type": "markdown",
   "metadata": {},
   "source": [
    "## 4. Alg Test\n",
    "\n",
    "Test the standard rainbow algorithm"
   ]
  },
  {
   "cell_type": "code",
   "execution_count": null,
   "metadata": {},
   "outputs": [],
   "source": [
    "max_t = pass\n",
    "n_episodes = pass\n",
    "\n",
    "# init agent:\n",
    "agent = pass\n",
    "# train the agent\n",
    "scores = tester.train_agent(agent, env, max_t, n_episodes, render_freq=100, log=True)\n",
    "# plot the training:\n",
    "plot(scores, n=50)"
   ]
  },
  {
   "cell_type": "markdown",
   "metadata": {},
   "source": [
    "### 4.1 Trained Agent Demonstration"
   ]
  },
  {
   "cell_type": "code",
   "execution_count": null,
   "metadata": {},
   "outputs": [],
   "source": [
    "tester.test_agent(agent, env, max_t, render=True, num_of_episodes=5, log=True)"
   ]
  }
 ],
 "metadata": {
  "kernelspec": {
   "display_name": "Python (ml-agents)",
   "language": "python",
   "name": "ml-agents"
  },
  "language_info": {
   "codemirror_mode": {
    "name": "ipython",
    "version": 3
   },
   "file_extension": ".py",
   "mimetype": "text/x-python",
   "name": "python",
   "nbconvert_exporter": "python",
   "pygments_lexer": "ipython3",
   "version": "3.6.10"
  }
 },
 "nbformat": 4,
 "nbformat_minor": 2
}
