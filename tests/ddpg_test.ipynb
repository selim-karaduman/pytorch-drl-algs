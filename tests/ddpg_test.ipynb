{
 "cells": [
  {
   "cell_type": "code",
   "execution_count": 1,
   "metadata": {},
   "outputs": [],
   "source": [
    "import sys; sys.path.insert(0, '..')\n",
    "\n",
    "import gym\n",
    "import sys\n",
    "import torch\n",
    "import tester\n",
    "import numpy as np\n",
    "import matplotlib.pyplot as plt\n",
    "from IPython.display import clear_output, Javascript\n",
    "\n",
    "import pytorch_drl.models.ddpg_models as models\n",
    "from pytorch_drl.utils.exploration import *\n",
    "from pytorch_drl.algs.ddpg import DDPG\n",
    "from notebook_utils import plot, mean_filter\n",
    "\n",
    "%matplotlib inline\n",
    "%load_ext autoreload\n",
    "%autoreload 2"
   ]
  },
  {
   "cell_type": "code",
   "execution_count": 2,
   "metadata": {},
   "outputs": [
    {
     "name": "stdout",
     "output_type": "stream",
     "text": [
      "Device: cuda:0\n"
     ]
    }
   ],
   "source": [
    "device = torch.device(\"cuda:0\" if torch.cuda.is_available() else \"cpu\")#\n",
    "#device = \"cpu\"\n",
    "print(\"Device:\", device)"
   ]
  },
  {
   "cell_type": "markdown",
   "metadata": {},
   "source": [
    "## Create environment"
   ]
  },
  {
   "cell_type": "code",
   "execution_count": 4,
   "metadata": {},
   "outputs": [
    {
     "name": "stdout",
     "output_type": "stream",
     "text": [
      "State size: 3 \n",
      "Action size: 1\n",
      "[2.] [-2.]\n"
     ]
    },
    {
     "name": "stderr",
     "output_type": "stream",
     "text": [
      "/home/selo/Envs/ml-agent_/gym/gym/logger.py:30: UserWarning: \u001b[33mWARN: Box bound precision lowered by casting to float32\u001b[0m\n",
      "  warnings.warn(colorize('%s: %s'%('WARN', msg % args), 'yellow'))\n"
     ]
    }
   ],
   "source": [
    "env_name = \"Pendulum-v0\"\n",
    "env = gym.make(env_name)\n",
    "env.seed(0)\n",
    "\n",
    "state_size =  env.observation_space.shape[0]\n",
    "action_size = env.action_space.shape[0]\n",
    "\n",
    "print(\"State size:\", state_size, \"\\nAction size:\", action_size)\n",
    "print(env.action_space.high, env.action_space.low)"
   ]
  },
  {
   "cell_type": "markdown",
   "metadata": {},
   "source": [
    "## Define networks for different algorithms"
   ]
  },
  {
   "cell_type": "code",
   "execution_count": 7,
   "metadata": {},
   "outputs": [],
   "source": [
    "tmax = 500\n",
    "n_episodes = 2_000\n",
    "seed = 0"
   ]
  },
  {
   "cell_type": "markdown",
   "metadata": {},
   "source": [
    "## DDPG Test\n",
    "\n",
    "Test the standard DDPG algorithm"
   ]
  },
  {
   "cell_type": "code",
   "execution_count": 9,
   "metadata": {
    "scrolled": true
   },
   "outputs": [
    {
     "data": {
      "image/png": "[encoded data removed]",
      "text/plain": [
       "<Figure size 432x288 with 1 Axes>"
      ]
     },
     "metadata": {
      "needs_background": "light"
     },
     "output_type": "display_data"
    }
   ],
   "source": [
    "value_net = models.DDPGValueNetwork(state_size, action_size)\n",
    "policy_net = models.DDPGPolicyNetwork(state_size, action_size)\n",
    "\n",
    "max_act = env.action_space.high\n",
    "min_act = env.action_space.low\n",
    "\n",
    "theta=0.15\n",
    "sigma=0.2\n",
    "noise_process = OrnsteinUhlenbeck(x_size=env.action_space.shape, mu=0, \n",
    "                                    sigma_init=sigma, sigma_final=sigma,\n",
    "                                    sigma_horizon=1, theta=theta)\n",
    "\n",
    "action = env.action_space.sample()\n",
    "#noise_proc = OrnsteinUhlenbeck(x0=np.zeros_like(action))\n",
    "\n",
    "lr_val = 1e-3\n",
    "lr_pol = 1e-4\n",
    "\n",
    "# init agent:\n",
    "agent = DDPG(policy_net=policy_net,\n",
    "             value_net=value_net,\n",
    "             lr_val=lr_val,\n",
    "             lr_pol=lr_pol,\n",
    "             buf_size=int(1e6),\n",
    "             device=device,\n",
    "             max_grad_norm=0.5,\n",
    "             noise_process=noise_process,\n",
    "             min_act=min_act,\n",
    "             max_act=max_act,\n",
    "             learn_every=1,\n",
    "             warm_up=1e4,\n",
    "             seed=0)\n",
    "\n",
    "alg_name = \"ddpg_{}\".format(env_name)\n",
    "max_score = -20.\n",
    "scores = agent.train(env, tmax, n_episodes, alg_name, max_score)\n",
    "plot(scores, 50)"
   ]
  },
  {
   "cell_type": "markdown",
   "metadata": {},
   "source": [
    "### 4.1 Trained Agent Demonstration"
   ]
  },
  {
   "cell_type": "code",
   "execution_count": null,
   "metadata": {},
   "outputs": [],
   "source": [
    "agent.test(env, tmax, render=True, n_episodes=5)"
   ]
  }
 ],
 "metadata": {
  "kernelspec": {
   "display_name": "Python (ml-agents)",
   "language": "python",
   "name": "ml-agents"
  },
  "language_info": {
   "codemirror_mode": {
    "name": "ipython",
    "version": 3
   },
   "file_extension": ".py",
   "mimetype": "text/x-python",
   "name": "python",
   "nbconvert_exporter": "python",
   "pygments_lexer": "ipython3",
   "version": "3.6.10"
  }
 },
 "nbformat": 4,
 "nbformat_minor": 2
}
