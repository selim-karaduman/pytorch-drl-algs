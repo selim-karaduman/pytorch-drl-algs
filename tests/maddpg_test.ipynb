{
 "cells": [
  {
   "cell_type": "code",
   "execution_count": 1,
   "metadata": {},
   "outputs": [],
   "source": [
    "import sys; sys.path.insert(0, '..')\n",
    "\n",
    "import sys\n",
    "import torch\n",
    "import numpy as np\n",
    "import matplotlib.pyplot as plt\n",
    "from IPython.display import clear_output, Javascript\n",
    "\n",
    "from multiagent.environment import MultiAgentEnv\n",
    "import multiagent.scenarios as scenarios\n",
    "from notebook_utils import plot, mean_filter\n",
    "import pytorch_drl.models.ddpg_models as models\n",
    "from pytorch_drl.utils.exploration import *\n",
    "from pytorch_drl.algs.maddpg import MADDPG\n",
    "\n",
    "%matplotlib inline\n",
    "%load_ext autoreload\n",
    "%autoreload 2"
   ]
  },
  {
   "cell_type": "code",
   "execution_count": 2,
   "metadata": {},
   "outputs": [],
   "source": [
    "sc_simple = \"simple\"\n",
    "sc_simple_adversary = \"simple_adversary\"\n",
    "sc_simple_crypto = \"simple_crypto\"\n",
    "sc_simple_push = \"simple_push\"\n",
    "sc_simple_reference = \"simple_reference\"\n",
    "sc_simple_speaker_listener = \"simple_speaker_listener\"\n",
    "sc_simple_spread = \"simple_spread\"\n",
    "sc_simple_tag = \"simple_tag\"\n",
    "sc_simple_world_comm = \"simple_world_comm\""
   ]
  },
  {
   "cell_type": "code",
   "execution_count": 3,
   "metadata": {},
   "outputs": [],
   "source": [
    "# https://github.com/openai/multiagent-particle-envs/blob/master/make_env.py\n",
    "# doesn't end\n",
    "def get_env(scenario_name):\n",
    "    scenario = scenarios.load(scenario_name + \".py\").Scenario()\n",
    "    world = scenario.make_world()\n",
    "    env = MultiAgentEnv(world, scenario.reset_world, scenario.reward, scenario.observation)\n",
    "    return env"
   ]
  },
  {
   "cell_type": "markdown",
   "metadata": {},
   "source": [
    "## Create environment"
   ]
  },
  {
   "cell_type": "code",
   "execution_count": 4,
   "metadata": {},
   "outputs": [
    {
     "name": "stderr",
     "output_type": "stream",
     "text": [
      "/home/selo/Envs/ml-agent_/gym/gym/logger.py:30: UserWarning: \u001b[33mWARN: Box bound precision lowered by casting to float32\u001b[0m\n",
      "  warnings.warn(colorize('%s: %s'%('WARN', msg % args), 'yellow'))\n"
     ]
    }
   ],
   "source": [
    "env = get_env(sc_simple)"
   ]
  },
  {
   "cell_type": "code",
   "execution_count": 5,
   "metadata": {},
   "outputs": [
    {
     "name": "stdout",
     "output_type": "stream",
     "text": [
      "action_space:  [Discrete(5)]\n",
      "Discrete(5)\n",
      "discrete_action_input:  False\n",
      "discrete_action_space:  True\n",
      "n:  1\n",
      "observation_space:  [Box(4,)]\n",
      "----------------------------------------------\n",
      "[array([ 0.        ,  0.        , -0.58370326, -0.67623465])]\n"
     ]
    }
   ],
   "source": [
    "print(\"action_space: \", env.action_space)\n",
    "print(env.action_space[0])\n",
    "print(\"discrete_action_input: \", env.discrete_action_input)\n",
    "print(\"discrete_action_space: \", env.discrete_action_space)\n",
    "print(\"n: \", env.n)\n",
    "print(\"observation_space: \", env.observation_space)\n",
    "print(\"----------------------------------------------\")\n",
    "print(env.reset())"
   ]
  },
  {
   "cell_type": "code",
   "execution_count": 6,
   "metadata": {},
   "outputs": [
    {
     "data": {
      "text/plain": [
       "([array([ 0.5       ,  0.        , -0.63370326, -0.67623465])],\n",
       " [-0.8588731232596569],\n",
       " [False],\n",
       " {'n': [{}]})"
      ]
     },
     "execution_count": 6,
     "metadata": {},
     "output_type": "execute_result"
    }
   ],
   "source": [
    "env.step([np.eye(5)[1], np.eye(5)[1], np.eye(5)[1]])"
   ]
  },
  {
   "cell_type": "code",
   "execution_count": 8,
   "metadata": {},
   "outputs": [
    {
     "name": "stdout",
     "output_type": "stream",
     "text": [
      "Device: cuda:0\n"
     ]
    }
   ],
   "source": [
    "device = torch.device(\"cuda:0\" if torch.cuda.is_available() else \"cpu\")#\n",
    "#device = \"cpu\"\n",
    "print(\"Device:\", device)"
   ]
  },
  {
   "cell_type": "markdown",
   "metadata": {},
   "source": [
    "## Define networks for different algorithms"
   ]
  },
  {
   "cell_type": "code",
   "execution_count": 6,
   "metadata": {},
   "outputs": [],
   "source": [
    "def copy_network(network1, network2):\n",
    "    network2.load_state_dict(network1.state_dict())"
   ]
  },
  {
   "cell_type": "code",
   "execution_count": 10,
   "metadata": {},
   "outputs": [],
   "source": [
    "n_agents = env.n\n",
    "action_sizes = [space.n for space in env.action_space]\n",
    "state_sizes = [np.prod(space.shape) for space in env.observation_space]\n",
    "total_size = np.sum(action_sizes) + np.sum(state_sizes)"
   ]
  },
  {
   "cell_type": "code",
   "execution_count": 11,
   "metadata": {},
   "outputs": [
    {
     "name": "stdout",
     "output_type": "stream",
     "text": [
      "-----------------------------------------------------\n",
      "-----------------------------------------------------\n",
      "-----------------------------------------------------\n",
      "-----------------------------------------------------\n",
      "-----------------------------------------------------\n"
     ]
    }
   ],
   "source": [
    "# random agent\n",
    "for _ in range(5):\n",
    "    t = 0\n",
    "    score = np.zeros(n_agents)\n",
    "    states = env.reset()\n",
    "    for q in range(50):\n",
    "        actions = [np.eye(action_sizes[i])[np.random.randint(action_sizes[i])] for i in range(n_agents)]\n",
    "        #print(\"-------------\\n\".join(map(str, actions)))\n",
    "        states, rewards, dones, _ = env.step(actions)\n",
    "        score += rewards\n",
    "        t += 1\n",
    "        #env.render()\n",
    "        if dones[0]:\n",
    "            break\n",
    "    else:\n",
    "        print(\"-----------------------------------------------------\")\n",
    "        continue\n",
    "\n",
    "    print(\"Took {} steps.\".format(t))\n",
    "    print(\"Scores of each agent: {}\".format(score))\n",
    "    print(\"Avg score: {}\".format(np.mean(score)))\n",
    "    print(\"-----------------------------------------------------\")\n",
    "env.close()"
   ]
  },
  {
   "cell_type": "markdown",
   "metadata": {},
   "source": [
    "## MADDPG Test\n",
    "\n",
    "Test the MADDPG algorithm"
   ]
  },
  {
   "cell_type": "code",
   "execution_count": 91,
   "metadata": {
    "scrolled": true
   },
   "outputs": [
    {
     "name": "stdout",
     "output_type": "stream",
     "text": [
      "Average test score: [-959.97834694], e: 990                   "
     ]
    }
   ],
   "source": [
    "env = get_env(sc_simple)\n",
    "n_agents = env.n\n",
    "action_sizes = [space.n for space in env.action_space]\n",
    "state_sizes = [np.prod(space.shape) for space in env.observation_space]\n",
    "total_size = np.sum(action_sizes) + np.sum(state_sizes)\n",
    "\n",
    "value_nets = [models.MADDPGValueNetwork(total_size-action_sizes[i], action_sizes[i]) for i in range(n_agents)]\n",
    "value_net_targets = [models.MADDPGValueNetwork(total_size-action_sizes[i], action_sizes[i]) for i in range(n_agents)]\n",
    "for i in range(n_agents):\n",
    "    copy_network(value_nets[i], value_net_targets[i])\n",
    "\n",
    "policy_nets = [models.DDPGDiscrete(state_sizes[i], action_sizes[i]) for i in range(n_agents)]\n",
    "policy_net_targets = [models.DDPGDiscrete(state_sizes[i], action_sizes[i]) for i in range(n_agents)]\n",
    "for i in range(n_agents):\n",
    "    copy_network(policy_nets[i], policy_net_targets[i])\n",
    "\n",
    "\n",
    "agent = MADDPG(policy_nets=policy_nets,\n",
    "                policy_net_targets=policy_net_targets,\n",
    "                value_nets=value_nets,\n",
    "                value_net_targets=value_net_targets,\n",
    "                gamma=0.95, \n",
    "                lr_val=1e-2,\n",
    "                lr_pol=1e-2,\n",
    "                buf_size=int(1e6),\n",
    "                batch_size=1024,\n",
    "                tau=1e-2,\n",
    "                device=\"cpu\", #device,\n",
    "                max_grad_norm=0.5,\n",
    "                warm_up=0,\n",
    "                env=env,\n",
    "                seed=100,\n",
    "                learn_every=100,\n",
    "                )\n",
    "    \n",
    "scores = agent.train(n_episodes=1000, max_t=50, test_every=10, max_score=-0)\n",
    "\n",
    "# plot the training:\n",
    "#plot(scores)"
   ]
  },
  {
   "cell_type": "code",
   "execution_count": 92,
   "metadata": {},
   "outputs": [
    {
     "data": {
      "image/png": "[encoded data removed]",
      "text/plain": [
       "<Figure size 432x288 with 1 Axes>"
      ]
     },
     "metadata": {
      "needs_background": "light"
     },
     "output_type": "display_data"
    }
   ],
   "source": [
    "plot(scores, 1000)"
   ]
  },
  {
   "cell_type": "markdown",
   "metadata": {},
   "source": [
    "### Trained Agent Demonstration"
   ]
  },
  {
   "cell_type": "code",
   "execution_count": null,
   "metadata": {},
   "outputs": [],
   "source": [
    "agent.test(50, 5, True)"
   ]
  },
  {
   "cell_type": "markdown",
   "metadata": {},
   "source": [
    "### Simple Adversary"
   ]
  },
  {
   "cell_type": "code",
   "execution_count": 9,
   "metadata": {},
   "outputs": [
    {
     "name": "stdout",
     "output_type": "stream",
     "text": [
      "Average test score: [-3473.64858362 -3473.64858362], e: 20                  "
     ]
    },
    {
     "name": "stderr",
     "output_type": "stream",
     "text": [
      "../torch/csrc/utils/python_arg_parser.cpp:698: UserWarning: This overload of add_ is deprecated:\n",
      "\tadd_(Number alpha, Tensor other)\n",
      "Consider using one of the following signatures instead:\n",
      "\tadd_(Tensor other, Number alpha)\n"
     ]
    },
    {
     "name": "stdout",
     "output_type": "stream",
     "text": [
      "Average test score: [-41.84770357 -41.84770357], e: 2990                     "
     ]
    }
   ],
   "source": [
    "env = get_env(sc_simple_speaker_listener)\n",
    "n_agents = env.n\n",
    "action_sizes = [space.n for space in env.action_space]\n",
    "state_sizes = [np.prod(space.shape) for space in env.observation_space]\n",
    "total_size = np.sum(action_sizes) + np.sum(state_sizes)\n",
    "\n",
    "value_nets = [models.MADDPGValueNetwork(total_size-action_sizes[i], action_sizes[i]) for i in range(n_agents)]\n",
    "value_net_targets = [models.MADDPGValueNetwork(total_size-action_sizes[i], action_sizes[i]) for i in range(n_agents)]\n",
    "for i in range(n_agents):\n",
    "    copy_network(value_nets[i], value_net_targets[i])\n",
    "\n",
    "policy_nets = [models.DDPGDiscrete(state_sizes[i], action_sizes[i]) for i in range(n_agents)]\n",
    "policy_net_targets = [models.DDPGDiscrete(state_sizes[i], action_sizes[i]) for i in range(n_agents)]\n",
    "for i in range(n_agents):\n",
    "    copy_network(policy_nets[i], policy_net_targets[i])\n",
    "\n",
    "\n",
    "agent = MADDPG(policy_nets=policy_nets,\n",
    "                policy_net_targets=policy_net_targets,\n",
    "                value_nets=value_nets,\n",
    "                value_net_targets=value_net_targets,\n",
    "                gamma=0.95, \n",
    "                lr_val=1e-2,\n",
    "                lr_pol=1e-2,\n",
    "                buf_size=int(1e6),\n",
    "                batch_size=1024,\n",
    "                tau=1e-2,\n",
    "                device=device,\n",
    "                max_grad_norm=0.5,\n",
    "                warm_up=0,\n",
    "                env=env,\n",
    "                seed=100,\n",
    "                learn_every=100,\n",
    "                )\n",
    "    \n",
    "scores = agent.train(n_episodes=3000, max_t=50, test_every=10, max_score=-0)\n",
    "\n",
    "# plot the training:\n",
    "#plot(scores)"
   ]
  }
 ],
 "metadata": {
  "kernelspec": {
   "display_name": "Python (ml-agents)",
   "language": "python",
   "name": "ml-agents"
  },
  "language_info": {
   "codemirror_mode": {
    "name": "ipython",
    "version": 3
   },
   "file_extension": ".py",
   "mimetype": "text/x-python",
   "name": "python",
   "nbconvert_exporter": "python",
   "pygments_lexer": "ipython3",
   "version": "3.6.10"
  }
 },
 "nbformat": 4,
 "nbformat_minor": 2
}
