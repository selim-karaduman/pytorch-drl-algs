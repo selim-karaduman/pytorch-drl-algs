{
 "cells": [
  {
   "cell_type": "code",
   "execution_count": 61,
   "metadata": {},
   "outputs": [
    {
     "name": "stdout",
     "output_type": "stream",
     "text": [
      "The autoreload extension is already loaded. To reload it, use:\n",
      "  %reload_ext autoreload\n"
     ]
    }
   ],
   "source": [
    "import sys; sys.path.insert(0, '..')\n",
    "\n",
    "import gym\n",
    "import sys\n",
    "import torch\n",
    "import tester\n",
    "import numpy as np\n",
    "import matplotlib.pyplot as plt\n",
    "from IPython.display import clear_output, Javascript\n",
    "\n",
    "import pytorch_drl.models.ppo_models as models\n",
    "\n",
    "from pytorch_drl.algs.trpo import TRPO\n",
    "\n",
    "%matplotlib inline\n",
    "%load_ext autoreload\n",
    "%autoreload 2"
   ]
  },
  {
   "cell_type": "code",
   "execution_count": 62,
   "metadata": {},
   "outputs": [
    {
     "name": "stdout",
     "output_type": "stream",
     "text": [
      "Device: cuda:0\n"
     ]
    }
   ],
   "source": [
    "device =torch.device(\"cuda:0\" if torch.cuda.is_available() else \"cpu\")\n",
    "print(\"Device:\", device)"
   ]
  },
  {
   "cell_type": "markdown",
   "metadata": {},
   "source": [
    "## 1. Define Utils:\n",
    "\n",
    "### 1.1 Plotting:"
   ]
  },
  {
   "cell_type": "code",
   "execution_count": 63,
   "metadata": {},
   "outputs": [],
   "source": [
    "def mean_filter(arr, filter_len):\n",
    "    arr = np.concatenate([[0]*(filter_len-1), arr])\n",
    "    filter_arr = np.ones(filter_len)/filter_len\n",
    "    arr = arr\n",
    "    output = list()\n",
    "    for i in range(filter_len-1, len(arr)):\n",
    "        conv = np.sum(filter_arr * arr[i-filter_len+1:i+1])\n",
    "        output.append(conv)\n",
    "    return output\n",
    "\n",
    "def plot(scores, n=None):\n",
    "    if n is not None:\n",
    "        scores = mean_filter(scores, n)\n",
    "    clear_output(True)\n",
    "    fig = plt.figure()\n",
    "    ax = fig.add_subplot(111)\n",
    "    plt.plot(np.arange(len(scores)), scores)\n",
    "    plt.ylabel('Score')\n",
    "    plt.xlabel('Episode')\n",
    "    plt.show()"
   ]
  },
  {
   "cell_type": "markdown",
   "metadata": {},
   "source": [
    "## 2. Create environment"
   ]
  },
  {
   "cell_type": "code",
   "execution_count": 64,
   "metadata": {},
   "outputs": [
    {
     "name": "stdout",
     "output_type": "stream",
     "text": [
      "State size: 4 \n",
      "Action size: 2\n"
     ]
    }
   ],
   "source": [
    "env_name = \"LunarLander-v2\"\n",
    "env_name = \"CartPole-v0\"\n",
    "env = gym.make(env_name)\n",
    "env.seed(0)\n",
    "\n",
    "state_size =  env.observation_space.shape[0]\n",
    "action_size = env.action_space.n\n",
    "\n",
    "print(\"State size:\", state_size, \"\\nAction size:\", action_size)"
   ]
  },
  {
   "cell_type": "markdown",
   "metadata": {},
   "source": [
    "## 3. Define networks for different algorithms"
   ]
  },
  {
   "cell_type": "code",
   "execution_count": 121,
   "metadata": {},
   "outputs": [],
   "source": [
    "# Models:\n",
    "actor_constructor = models.ActorNetwork\n",
    "actor_args = (state_size, action_size)\n",
    "critic_constructor = models.CriticNetwork\n",
    "critic_args = (state_size, action_size)\n"
   ]
  },
  {
   "cell_type": "markdown",
   "metadata": {},
   "source": [
    "## 4. TRPO Test"
   ]
  },
  {
   "cell_type": "code",
   "execution_count": null,
   "metadata": {},
   "outputs": [
    {
     "name": "stdout",
     "output_type": "stream",
     "text": [
      "Ep: 0; Score: 20.0, Loss: 245.16111755371094\n",
      "Ep: 4; Score: 14.5, Loss: 259.6360168457031\n",
      "Ep: 8; Score: 12.666666666666666, Loss: 226.7269744873047\n",
      "Ep: 12; Score: 12.0, Loss: 191.65011596679688\n",
      "Ep: 16; Score: 11.6, Loss: 163.02273559570312\n",
      "Ep: 20; Score: 11.0, Loss: 140.6450958251953\n",
      "Ep: 24; Score: 10.714285714285714, Loss: 107.5106201171875\n",
      "Ep: 28; Score: 10.625, Loss: 84.97537994384766\n",
      "Ep: 32; Score: 10.444444444444445, Loss: 70.53718566894531\n",
      "Ep: 36; Score: 10.4, Loss: 61.9267463684082\n",
      "Ep: 40; Score: 10.363636363636363, Loss: 52.350830078125\n",
      "Ep: 44; Score: 10.25, Loss: 36.73377227783203\n",
      "Ep: 48; Score: 10.076923076923077, Loss: 25.562862396240234\n",
      "Ep: 52; Score: 10.071428571428571, Loss: 20.513202667236328\n",
      "Ep: 56; Score: 10.066666666666666, Loss: 17.730745315551758\n",
      "Ep: 60; Score: 10.0625, Loss: 15.272039413452148\n",
      "Ep: 64; Score: 10.0, Loss: 13.624656677246094\n",
      "Ep: 68; Score: 10.0, Loss: 12.221139907836914\n",
      "Ep: 72; Score: 9.894736842105264, Loss: 10.931342124938965\n",
      "Ep: 76; Score: 9.85, Loss: 10.003683090209961\n"
     ]
    }
   ],
   "source": [
    "tmax = 1000\n",
    "n_traj = 2000\n",
    "n_env = 1\n",
    "\n",
    "actor_constructor = models.ActorNetwork\n",
    "actor_args = (state_size, action_size)\n",
    "critic_constructor = models.CriticNetwork\n",
    "critic_args = (state_size, action_size)\n",
    "\n",
    "\n",
    "agent = TRPO(actor_constructor,\n",
    "             actor_args,\n",
    "             critic_constructor,\n",
    "             critic_args,\n",
    "             critic_use_bfgs=False,\n",
    "             critic_lr_sgd=1e-3,\n",
    "             critic_lr_bfgs=0.1,\n",
    "             critic_reg_bfgs=1e-3,\n",
    "             max_kl=1e-2,\n",
    "             backtrack_alpha=0.5,\n",
    "             backtrack_steps=10,\n",
    "             damping_coeff=0.1,\n",
    "             env_name=env_name,\n",
    "             gamma=0.99, \n",
    "             tau=0.97,\n",
    "             n_env=8,\n",
    "             device=device,\n",
    "             normalize_rewards=True,\n",
    "             max_grad_norm=None,\n",
    "            )\n",
    "# train the agent\n",
    "scores, losses = agent.train(tmax, n_traj,  env)\n",
    "\n",
    "# plot the training:\n",
    "x = np.arange(len(scores))\n",
    "scores = mean_filter(scores, 50)\n",
    "plt.plot(x, scores, label = \"scores\")\n",
    "plt.show()\n",
    "\n",
    "\"\"\"\n",
    "tensor([ 7.6780e-05,  3.0375e-04, -5.4383e-05,  ..., -1.2598e-03,\n",
    "         7.4972e-02, -7.4972e-02]\n",
    "         \n",
    "tensor([-6.1298e-05,  7.2905e-05,  9.5473e-05,  ...,  6.8445e-04,\n",
    "         1.0478e-01, -1.0478e-01])\n",
    "\"\"\""
   ]
  },
  {
   "cell_type": "markdown",
   "metadata": {},
   "source": [
    "### 4.1 Trained Agent Demonstration"
   ]
  },
  {
   "cell_type": "code",
   "execution_count": 9,
   "metadata": {},
   "outputs": [
    {
     "name": "stdout",
     "output_type": "stream",
     "text": [
      "200.0\n",
      "200.0\n",
      "200.0\n",
      "200.0\n",
      "200.0\n"
     ]
    }
   ],
   "source": [
    "tester.test_agent(agent, env, max_t=200, render=True, num_of_episodes=5, log=True)"
   ]
  }
 ],
 "metadata": {
  "kernelspec": {
   "display_name": "Python (ml-agents)",
   "language": "python",
   "name": "ml-agents"
  },
  "language_info": {
   "codemirror_mode": {
    "name": "ipython",
    "version": 3
   },
   "file_extension": ".py",
   "mimetype": "text/x-python",
   "name": "python",
   "nbconvert_exporter": "python",
   "pygments_lexer": "ipython3",
   "version": "3.6.10"
  }
 },
 "nbformat": 4,
 "nbformat_minor": 2
}
