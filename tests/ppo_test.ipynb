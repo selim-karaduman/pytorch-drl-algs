{
 "cells": [
  {
   "cell_type": "code",
   "execution_count": 2,
   "metadata": {},
   "outputs": [
    {
     "name": "stdout",
     "output_type": "stream",
     "text": [
      "The autoreload extension is already loaded. To reload it, use:\n",
      "  %reload_ext autoreload\n"
     ]
    }
   ],
   "source": [
    "import sys; sys.path.insert(0, '..')\n",
    "\n",
    "import gym\n",
    "import sys\n",
    "import torch\n",
    "import numpy as np\n",
    "import matplotlib.pyplot as plt\n",
    "from IPython.display import clear_output, Javascript\n",
    "\n",
    "from pytorch_drl.algs.ppo import PPO\n",
    "from notebook_utils import plot, mean_filter\n",
    "import pytorch_drl.models.actor_critic_models as models\n",
    "\n",
    "%matplotlib inline\n",
    "%load_ext autoreload\n",
    "%autoreload 2"
   ]
  },
  {
   "cell_type": "code",
   "execution_count": 3,
   "metadata": {},
   "outputs": [
    {
     "name": "stdout",
     "output_type": "stream",
     "text": [
      "Device: cuda:0\n"
     ]
    }
   ],
   "source": [
    "device =torch.device(\"cuda:0\" if torch.cuda.is_available() else \"cpu\")\n",
    "print(\"Device:\", device)"
   ]
  },
  {
   "cell_type": "markdown",
   "metadata": {},
   "source": [
    "## Create environment"
   ]
  },
  {
   "cell_type": "code",
   "execution_count": 4,
   "metadata": {},
   "outputs": [
    {
     "name": "stdout",
     "output_type": "stream",
     "text": [
      "State size: 4 \n",
      "Action size: 2\n"
     ]
    },
    {
     "name": "stderr",
     "output_type": "stream",
     "text": [
      "/home/selo/Envs/ml-agent_/gym/gym/logger.py:30: UserWarning: \u001b[33mWARN: Box bound precision lowered by casting to float32\u001b[0m\n",
      "  warnings.warn(colorize('%s: %s'%('WARN', msg % args), 'yellow'))\n"
     ]
    }
   ],
   "source": [
    "env_name = \"LunarLander-v2\"\n",
    "env_name = \"CartPole-v0\"\n",
    "env = gym.make(env_name)\n",
    "env.seed(0)\n",
    "\n",
    "state_size =  env.observation_space.shape[0]\n",
    "action_size = env.action_space.n\n",
    "\n",
    "print(\"State size:\", state_size, \"\\nAction size:\", action_size)"
   ]
  },
  {
   "cell_type": "markdown",
   "metadata": {},
   "source": [
    "## PPO Test"
   ]
  },
  {
   "cell_type": "code",
   "execution_count": 5,
   "metadata": {},
   "outputs": [
    {
     "name": "stderr",
     "output_type": "stream",
     "text": [
      "../torch/csrc/utils/python_arg_parser.cpp:698: UserWarning: This overload of add_ is deprecated:\n",
      "\tadd_(Number alpha, Tensor other)\n",
      "Consider using one of the following signatures instead:\n",
      "\tadd_(Tensor other, Number alpha)\n"
     ]
    },
    {
     "name": "stdout",
     "output_type": "stream",
     "text": [
      "Avg score: 195.06 i: 157                       Solved! Episode 157\n"
     ]
    },
    {
     "data": {
      "image/png": "[encoded data removed]",
      "text/plain": [
       "<Figure size 432x288 with 1 Axes>"
      ]
     },
     "metadata": {
      "needs_background": "light"
     },
     "output_type": "display_data"
    }
   ],
   "source": [
    "tmax = 200\n",
    "n_episodes = 2000\n",
    "\n",
    "n_env = 8\n",
    "epochs = 4\n",
    "batch_size = 16 * n_env #tmax * n_env // 4    #32\n",
    "\n",
    "ppo_model = models.ActorCriticMLP(state_size, action_size, env.action_space)\n",
    "# init agent:\n",
    "agent = PPO(ppo_model,\n",
    "            env_name,\n",
    "            n_env=n_env,\n",
    "            epochs=epochs,\n",
    "            lr=1e-4,\n",
    "            critic_coef=0.5,\n",
    "            max_grad_norm=0.5,\n",
    "            mini_batch_size=batch_size,\n",
    "            device=device\n",
    "            )\n",
    "max_score = 195.\n",
    "model_name = \"ppo_{}\".format(env_name)\n",
    "# train the agent\n",
    "scores, losses = agent.train(tmax, n_episodes,  env, max_score, model_name)\n",
    "\n",
    "# plot the training:\n",
    "x = np.arange(len(scores))\n",
    "scores = mean_filter(scores, 50)\n",
    "plt.plot(x, scores, label = \"scores\")\n",
    "plt.show()"
   ]
  },
  {
   "cell_type": "markdown",
   "metadata": {},
   "source": [
    "### Trained Agent Demonstration"
   ]
  },
  {
   "cell_type": "code",
   "execution_count": 8,
   "metadata": {},
   "outputs": [
    {
     "name": "stdout",
     "output_type": "stream",
     "text": [
      "200.0\n",
      "200.0\n",
      "200.0\n",
      "200.0\n"
     ]
    },
    {
     "data": {
      "text/plain": [
       "200.0"
      ]
     },
     "execution_count": 8,
     "metadata": {},
     "output_type": "execute_result"
    }
   ],
   "source": [
    "agent.test(env, render=True, n_episodes=4)"
   ]
  },
  {
   "cell_type": "markdown",
   "metadata": {},
   "source": [
    "### Save Trajectory"
   ]
  },
  {
   "cell_type": "code",
   "execution_count": 10,
   "metadata": {},
   "outputs": [
    {
     "name": "stdout",
     "output_type": "stream",
     "text": [
      "37450 / 37500                                  "
     ]
    }
   ],
   "source": [
    "trajectories = agent.save_trajectories(300_000//n_env, \"experts/ppo_{}\".format(env_name), action_size)"
   ]
  },
  {
   "cell_type": "markdown",
   "metadata": {},
   "source": [
    "## PPO Continuous Test\n"
   ]
  },
  {
   "cell_type": "code",
   "execution_count": 8,
   "metadata": {},
   "outputs": [
    {
     "name": "stdout",
     "output_type": "stream",
     "text": [
      "State size: 3 \n",
      "Action size: 1\n"
     ]
    },
    {
     "name": "stderr",
     "output_type": "stream",
     "text": [
      "/home/selo/Envs/ml-agent_/gym/gym/logger.py:30: UserWarning: \u001b[33mWARN: Box bound precision lowered by casting to float32\u001b[0m\n",
      "  warnings.warn(colorize('%s: %s'%('WARN', msg % args), 'yellow'))\n"
     ]
    },
    {
     "name": "stdout",
     "output_type": "stream",
     "text": [
      "Avg score: -172.59 i: 999                      "
     ]
    },
    {
     "data": {
      "image/png": "[encoded data removed]",
      "text/plain": [
       "<Figure size 432x288 with 1 Axes>"
      ]
     },
     "metadata": {
      "needs_background": "light"
     },
     "output_type": "display_data"
    }
   ],
   "source": [
    "env_name = \"Pendulum-v0\"\n",
    "env = gym.make(env_name)\n",
    "env.seed(0)\n",
    "\n",
    "state_size =  env.observation_space.shape[0]\n",
    "action_size = env.action_space.shape[0]\n",
    "\n",
    "print(\"State size:\", state_size, \"\\nAction size:\", action_size)\n",
    "\n",
    "tmax = 200\n",
    "n_episodes = 1000\n",
    "\n",
    "n_env = 8\n",
    "epochs = 4\n",
    "batch_size = 16 * n_env #tmax * n_env // 4    #32\n",
    "\n",
    "ppo_model = models.ActorCriticMLP(state_size, action_size, env.action_space, H=64)\n",
    "# init agent:\n",
    "agent = PPO(ppo_model,\n",
    "            env_name,\n",
    "            n_env=n_env,\n",
    "            epochs=epochs,\n",
    "            lr=1e-3,\n",
    "            critic_coef=0.5,\n",
    "            max_grad_norm=0.5,\n",
    "            mini_batch_size=batch_size,\n",
    "            device=device\n",
    "            )\n",
    "max_score = -20.\n",
    "model_name = \"ppo_{}\".format(env_name)\n",
    "# train the agent\n",
    "scores, losses = agent.train(tmax, n_episodes,  env, max_score, model_name)\n",
    "\n",
    "# plot the training:\n",
    "x = np.arange(len(scores))\n",
    "scores = mean_filter(scores, 50)\n",
    "#losses = mean_filter(losses, 50)\n",
    "plt.plot(x, scores, label = \"scores\")\n",
    "#plt.plot(x, losses, label = \"losses\")\n",
    "#plt.legend()\n",
    "plt.show()"
   ]
  },
  {
   "cell_type": "markdown",
   "metadata": {},
   "source": [
    "### Trained Agent Demonstration"
   ]
  },
  {
   "cell_type": "code",
   "execution_count": 6,
   "metadata": {},
   "outputs": [
    {
     "name": "stdout",
     "output_type": "stream",
     "text": [
      "-130.0888981019225\n",
      "-122.29028083635971\n",
      "-121.80319605225704\n",
      "-251.3278058433072\n"
     ]
    },
    {
     "data": {
      "text/plain": [
       "-251.3278058433072"
      ]
     },
     "execution_count": 6,
     "metadata": {},
     "output_type": "execute_result"
    }
   ],
   "source": [
    "agent.test(env, render=True, n_episodes=4)"
   ]
  }
 ],
 "metadata": {
  "kernelspec": {
   "display_name": "Python (ml-agents)",
   "language": "python",
   "name": "ml-agents"
  },
  "language_info": {
   "codemirror_mode": {
    "name": "ipython",
    "version": 3
   },
   "file_extension": ".py",
   "mimetype": "text/x-python",
   "name": "python",
   "nbconvert_exporter": "python",
   "pygments_lexer": "ipython3",
   "version": "3.6.10"
  }
 },
 "nbformat": 4,
 "nbformat_minor": 2
}
