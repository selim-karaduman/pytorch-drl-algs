{
 "cells": [
  {
   "cell_type": "code",
   "execution_count": 1,
   "metadata": {},
   "outputs": [],
   "source": [
    "import sys; sys.path.insert(0, '..')\n",
    "\n",
    "import gym\n",
    "import sys\n",
    "import torch\n",
    "import tester\n",
    "import numpy as np\n",
    "import matplotlib.pyplot as plt\n",
    "from IPython.display import clear_output, Javascript\n",
    "\n",
    "import pytorch_drl.models.rainbow_models as models\n",
    "\n",
    "from pytorch_drl.algs.rainbow import Rainbow\n",
    "\n",
    "%matplotlib inline\n",
    "%load_ext autoreload\n",
    "%autoreload 2"
   ]
  },
  {
   "cell_type": "code",
   "execution_count": 9,
   "metadata": {},
   "outputs": [
    {
     "name": "stdout",
     "output_type": "stream",
     "text": [
      "Device: cuda:0\n"
     ]
    }
   ],
   "source": [
    "device = torch.device(\"cuda:0\" if torch.cuda.is_available() else \"cpu\")\n",
    "print(\"Device:\", device)"
   ]
  },
  {
   "cell_type": "markdown",
   "metadata": {},
   "source": [
    "## 1. Define Utils:\n",
    "\n",
    "### 1.1 Plotting:"
   ]
  },
  {
   "cell_type": "code",
   "execution_count": 3,
   "metadata": {},
   "outputs": [],
   "source": [
    "def mean_filter(arr, filter_len):\n",
    "    arr = np.concatenate([[0]*(filter_len-1), arr])\n",
    "    filter_arr = np.ones(filter_len)/filter_len\n",
    "    arr = arr\n",
    "    output = list()\n",
    "    for i in range(filter_len-1, len(arr)):\n",
    "        conv = np.sum(filter_arr * arr[i-filter_len+1:i+1])\n",
    "        output.append(conv)\n",
    "    return output\n",
    "\n",
    "def plot(scores, n=None):\n",
    "    if n is not None:\n",
    "        scores = mean_filter(scores, n)\n",
    "    clear_output(True)\n",
    "    fig = plt.figure()\n",
    "    ax = fig.add_subplot(111)\n",
    "    plt.plot(np.arange(len(scores)), scores)\n",
    "    plt.ylabel('Score')\n",
    "    plt.xlabel('Episode')\n",
    "    plt.show()"
   ]
  },
  {
   "cell_type": "markdown",
   "metadata": {},
   "source": [
    "## 2. Create environment"
   ]
  },
  {
   "cell_type": "code",
   "execution_count": 4,
   "metadata": {},
   "outputs": [
    {
     "name": "stdout",
     "output_type": "stream",
     "text": [
      "State size: 4 \n",
      "Action size: 2\n"
     ]
    },
    {
     "name": "stderr",
     "output_type": "stream",
     "text": [
      "/home/selo/Envs/ml-agent_/gym/gym/logger.py:30: UserWarning: \u001b[33mWARN: Box bound precision lowered by casting to float32\u001b[0m\n",
      "  warnings.warn(colorize('%s: %s'%('WARN', msg % args), 'yellow'))\n"
     ]
    }
   ],
   "source": [
    "env_name = \"CartPole-v0\"\n",
    "env = gym.make(env_name)\n",
    "env.seed(0)\n",
    "\n",
    "state_size =  env.observation_space.shape[0]\n",
    "action_size = env.action_space.n\n",
    "\n",
    "print(\"State size:\", state_size, \"\\nAction size:\", action_size)"
   ]
  },
  {
   "cell_type": "markdown",
   "metadata": {},
   "source": [
    "## 3. Define networks for different algorithms"
   ]
  },
  {
   "cell_type": "code",
   "execution_count": 6,
   "metadata": {},
   "outputs": [],
   "source": [
    "def copy_network(network1, network2):\n",
    "    network2.load_state_dict(network1.state_dict())"
   ]
  },
  {
   "cell_type": "code",
   "execution_count": 7,
   "metadata": {},
   "outputs": [
    {
     "name": "stdout",
     "output_type": "stream",
     "text": [
      "xD\n"
     ]
    }
   ],
   "source": [
    "max_t = 1000\n",
    "n_episodes = 2000\n",
    "seed = 0+122\n",
    "atoms = 51\n",
    "\n",
    "print(\"xD\")\n",
    "\n",
    "rainbow_model1 = models.RainbowNetwork(state_size, action_size, atoms)\n",
    "rainbow_model2 = models.RainbowNetwork(state_size, action_size, atoms)\n",
    "copy_network(rainbow_model1, rainbow_model2)\n",
    "\n",
    "dqn_model1 = models.DQNNetwork(state_size, action_size)\n",
    "dqn_model2 = models.DQNNetwork(state_size, action_size)\n",
    "copy_network(dqn_model1, dqn_model2)\n",
    "\n",
    "ns_model1 = models.NoisyRainbowNetwork(state_size, action_size)\n",
    "ns_model2 = models.NoisyRainbowNetwork(state_size, action_size)\n",
    "copy_network(ns_model1, ns_model2)\n",
    "\n",
    "dl_model1 = models.DuelingRainbowNetwork(state_size, action_size)\n",
    "dl_model2 = models.DuelingRainbowNetwork(state_size, action_size)\n",
    "copy_network(dl_model1, dl_model2)\n",
    "\n",
    "nd_model1 = models.NoisyDuelingRainbowNetwork(state_size, action_size, seed=5)\n",
    "nd_model2 = models.NoisyDuelingRainbowNetwork(state_size, action_size)\n",
    "copy_network(nd_model1, nd_model2)"
   ]
  },
  {
   "cell_type": "markdown",
   "metadata": {},
   "source": [
    "## 4. Rainbow Test\n",
    "\n",
    "Test the standard rainbow algorithm"
   ]
  },
  {
   "cell_type": "code",
   "execution_count": 30,
   "metadata": {
    "scrolled": true
   },
   "outputs": [
    {
     "data": {
      "image/png": "[encoded data removed]",
      "text/plain": [
       "<Figure size 432x288 with 1 Axes>"
      ]
     },
     "metadata": {
      "needs_background": "light"
     },
     "output_type": "display_data"
    }
   ],
   "source": [
    "vmin = 0.0\n",
    "vmax = 200.0\n",
    "\n",
    "rainbow_model1 = models.RainbowNetwork(state_size, action_size, atoms)\n",
    "rainbow_model2 = models.RainbowNetwork(state_size, action_size, atoms)\n",
    "copy_network(rainbow_model1, rainbow_model2)\n",
    "\n",
    "# init agent:\n",
    "agent = Rainbow(state_size, action_size, seed, vmin=vmin, vmax=vmax, \n",
    "                 atoms=atoms,\n",
    "                 distributional=True, #111\n",
    "                 prioritized_replay=True,\n",
    "                 ddqn=True,\n",
    "                 n=3, #n-step\n",
    "                 nstep=True,\n",
    "                 noisy=True, # 111\n",
    "                 model1=rainbow_model1,\n",
    "                 model2=rainbow_model2,\n",
    "                 gamma = 0.99,\n",
    "                 lr = None,\n",
    "                 n_replay = 1,\n",
    "                 buf_size = int(1e3),\n",
    "                 batch_size = 32,\n",
    "                 is_beta = 1, #importance sampling\n",
    "                 pr_alpha = 0.2,\n",
    "                 tau = 1e-3,\n",
    "                 device = device,\n",
    "                 beta_horz = 20000 #beta horizon (n_of_steps)\n",
    "               )\n",
    "\n",
    "\n",
    "# train the agent\n",
    "scores = tester.train_agent(agent, env, max_t, n_episodes, \"rainbow\", render_freq=1000, log=True)\n",
    "# plot the training:\n",
    "plot(scores)"
   ]
  },
  {
   "cell_type": "code",
   "execution_count": 39,
   "metadata": {},
   "outputs": [
    {
     "data": {
      "image/png": "[encoded data removed]",
      "text/plain": [
       "<Figure size 432x288 with 1 Axes>"
      ]
     },
     "metadata": {
      "needs_background": "light"
     },
     "output_type": "display_data"
    }
   ],
   "source": [
    "plot(scores, 100)"
   ]
  },
  {
   "cell_type": "markdown",
   "metadata": {},
   "source": [
    "### 4.1 Trained Agent Demonstration"
   ]
  },
  {
   "cell_type": "code",
   "execution_count": 40,
   "metadata": {},
   "outputs": [
    {
     "name": "stdout",
     "output_type": "stream",
     "text": [
      "200.0\n",
      "200.0\n",
      "200.0\n",
      "200.0\n",
      "200.0\n"
     ]
    }
   ],
   "source": [
    "tester.test_agent(agent, env, max_t, render=True, num_of_episodes=5, log=True)"
   ]
  },
  {
   "cell_type": "markdown",
   "metadata": {},
   "source": [
    "## 5. DQN Test\n",
    "\n",
    "Test the DQN algorithm with Double Q Learning"
   ]
  },
  {
   "cell_type": "code",
   "execution_count": 43,
   "metadata": {},
   "outputs": [
    {
     "data": {
      "image/png": "[encoded data removed]",
      "text/plain": [
       "<Figure size 432x288 with 1 Axes>"
      ]
     },
     "metadata": {
      "needs_background": "light"
     },
     "output_type": "display_data"
    }
   ],
   "source": [
    "# init agent:\n",
    "\n",
    "dqn_model1 = models.DQNNetwork(state_size, action_size)\n",
    "dqn_model2 = models.DQNNetwork(state_size, action_size)\n",
    "copy_network(dqn_model1, dqn_model2)\n",
    "\n",
    "dqn_agent = Rainbow(state_size, \n",
    "                     action_size, \n",
    "                     seed,\n",
    "                     ddqn=True,\n",
    "                     model1=dqn_model1,\n",
    "                     model2=dqn_model2,\n",
    "                     gamma = 0.99,\n",
    "                     lr = 1e-4,\n",
    "                     n_replay = 4,\n",
    "                     buf_size = int(1e5),\n",
    "                     batch_size = 64,\n",
    "                     tau = 1e-3,\n",
    "                     device = device)\n",
    "# train the agent\n",
    "dqn_scores = tester.train_agent(dqn_agent, env, max_t, n_episodes, \"dqn\", render_freq=1000, log=True)\n",
    "# plot the training:\n",
    "plot(dqn_scores, n=50)"
   ]
  },
  {
   "cell_type": "markdown",
   "metadata": {},
   "source": [
    "### 5.1 Trained Agent Demonstration"
   ]
  },
  {
   "cell_type": "code",
   "execution_count": 16,
   "metadata": {},
   "outputs": [
    {
     "name": "stdout",
     "output_type": "stream",
     "text": [
      "200.0\n",
      "200.0\n",
      "200.0\n",
      "200.0\n",
      "200.0\n"
     ]
    }
   ],
   "source": [
    "tester.test_agent(dqn_agent, env, max_t, render=True, num_of_episodes=5, log=True)"
   ]
  },
  {
   "cell_type": "markdown",
   "metadata": {},
   "source": [
    "## 6. QR - DQN Test\n",
    "\n",
    "Test the DQN algorithm with quantized regression"
   ]
  },
  {
   "cell_type": "code",
   "execution_count": 76,
   "metadata": {},
   "outputs": [
    {
     "data": {
      "image/png": "[encoded data removed]",
      "text/plain": [
       "<Figure size 432x288 with 1 Axes>"
      ]
     },
     "metadata": {
      "needs_background": "light"
     },
     "output_type": "display_data"
    }
   ],
   "source": [
    "n_quants = 51\n",
    "qrdqn_model1 = models.QRDQNNetwork(state_size, action_size, n_quants)\n",
    "qrdqn_model2 = models.QRDQNNetwork(state_size, action_size, n_quants)\n",
    "copy_network(rainbow_model1, rainbow_model2)\n",
    "\n",
    "qr_dqn_agent = Rainbow(state_size, \n",
    "                     action_size, \n",
    "                     seed,\n",
    "                     ddqn=True,\n",
    "                     n_quants=n_quants,\n",
    "                     quantile_regression=True,\n",
    "                     model1=qrdqn_model1,\n",
    "                     model2=qrdqn_model2,\n",
    "                     gamma = 0.99,\n",
    "                     lr = 1e-4,\n",
    "                     n_replay = 4,\n",
    "                     buf_size = int(1e5),\n",
    "                     batch_size = 64,\n",
    "                     tau = 1e-3,\n",
    "                     device = device)\n",
    "# train the agent\n",
    "qr_dqn_scores = tester.train_agent(qr_dqn_agent, env, max_t, n_episodes, \"qr_dqn\", render_freq=1000, log=True)\n",
    "# plot the training:\n",
    "plot(qr_dqn_scores, n=50)"
   ]
  },
  {
   "cell_type": "markdown",
   "metadata": {},
   "source": [
    "### 6.1 Trained Agent Demonstration"
   ]
  },
  {
   "cell_type": "code",
   "execution_count": 77,
   "metadata": {},
   "outputs": [
    {
     "name": "stdout",
     "output_type": "stream",
     "text": [
      "200.0\n",
      "200.0\n",
      "200.0\n",
      "200.0\n",
      "200.0\n"
     ]
    }
   ],
   "source": [
    "tester.test_agent(qr_dqn_agent, env, max_t, render=True, num_of_episodes=5, log=True)"
   ]
  },
  {
   "cell_type": "markdown",
   "metadata": {},
   "source": [
    "## 7. Rainbow with Quantile Regression Test\n",
    "\n",
    "Test the Rainbow algorithm with quantized regression instead for distributional approach (C51)"
   ]
  },
  {
   "cell_type": "code",
   "execution_count": 114,
   "metadata": {},
   "outputs": [
    {
     "data": {
      "image/png": "[encoded data removed]",
      "text/plain": [
       "<Figure size 432x288 with 1 Axes>"
      ]
     },
     "metadata": {
      "needs_background": "light"
     },
     "output_type": "display_data"
    }
   ],
   "source": [
    "n_quants = 51\n",
    "\n",
    "qr_rainbow_model1 = models.QRRainbowNetwork(state_size, action_size, atoms)\n",
    "qr_rainbow_model2 = models.QRRainbowNetwork(state_size, action_size, atoms)\n",
    "copy_network(rainbow_model1, rainbow_model2)\n",
    "\n",
    "# init agent:\n",
    "qr_rainbow_agent = Rainbow(state_size, action_size, seed,\n",
    "                 prioritized_replay=True,\n",
    "                 ddqn=True,\n",
    "                 n_quants=n_quants,\n",
    "                 quantile_regression=True,\n",
    "                 n=3, #n-step\n",
    "                 nstep=True,\n",
    "                 noisy=True, # 111\n",
    "                 model1=qr_rainbow_model1,\n",
    "                 model2=qr_rainbow_model1,\n",
    "                 gamma = 0.99,\n",
    "                 lr = None,\n",
    "                 n_replay = 1,\n",
    "                 buf_size = int(1e3),\n",
    "                 batch_size = 32,\n",
    "                 is_beta = 1, #importance sampling\n",
    "                 pr_alpha = 0.0,\n",
    "                 tau = 1e-3,\n",
    "                 device = device,\n",
    "                 beta_horz = 20000 #beta horizon (n_of_steps)\n",
    "               )\n",
    "\n",
    "\n",
    "# train the agent\n",
    "qr_rainbow_scores = tester.train_agent(qr_rainbow_agent, env, max_t, n_episodes, \"qr_rainbow\", render_freq=1000, log=True)\n",
    "# plot the training:\n",
    "plot(qr_rainbow_scores, 50)"
   ]
  },
  {
   "cell_type": "markdown",
   "metadata": {},
   "source": [
    "### 7.1 Trained Agent Demonstration"
   ]
  },
  {
   "cell_type": "code",
   "execution_count": 115,
   "metadata": {},
   "outputs": [
    {
     "name": "stdout",
     "output_type": "stream",
     "text": [
      "200.0\n",
      "200.0\n",
      "200.0\n",
      "200.0\n",
      "200.0\n"
     ]
    }
   ],
   "source": [
    "tester.test_agent(qr_rainbow_agent, env, max_t, render=True, num_of_episodes=5, log=True)"
   ]
  },
  {
   "cell_type": "markdown",
   "metadata": {},
   "source": [
    "### Lunar-Lander"
   ]
  },
  {
   "cell_type": "code",
   "execution_count": 10,
   "metadata": {},
   "outputs": [
    {
     "name": "stdout",
     "output_type": "stream",
     "text": [
      "State size: 8 \n",
      "Action size: 4\n"
     ]
    }
   ],
   "source": [
    "env_name = \"LunarLander-v2\"\n",
    "env = gym.make(env_name)\n",
    "env.seed(0)\n",
    "\n",
    "state_size =  env.observation_space.shape[0]\n",
    "action_size = env.action_space.n\n",
    "\n",
    "print(\"State size:\", state_size, \"\\nAction size:\", action_size)"
   ]
  }
 ],
 "metadata": {
  "kernelspec": {
   "display_name": "Python (ml-agents)",
   "language": "python",
   "name": "ml-agents"
  },
  "language_info": {
   "codemirror_mode": {
    "name": "ipython",
    "version": 3
   },
   "file_extension": ".py",
   "mimetype": "text/x-python",
   "name": "python",
   "nbconvert_exporter": "python",
   "pygments_lexer": "ipython3",
   "version": "3.6.10"
  }
 },
 "nbformat": 4,
 "nbformat_minor": 2
}
