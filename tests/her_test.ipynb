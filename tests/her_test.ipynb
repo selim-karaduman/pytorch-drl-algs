{
 "cells": [
  {
   "cell_type": "code",
   "execution_count": 27,
   "metadata": {},
   "outputs": [
    {
     "name": "stdout",
     "output_type": "stream",
     "text": [
      "The autoreload extension is already loaded. To reload it, use:\n",
      "  %reload_ext autoreload\n"
     ]
    }
   ],
   "source": [
    "import sys; sys.path.insert(0, '..')\n",
    "\n",
    "import gym\n",
    "import sys\n",
    "import torch\n",
    "import tester\n",
    "import numpy as np\n",
    "import matplotlib.pyplot as plt\n",
    "from IPython.display import clear_output, Javascript\n",
    "\n",
    "from pytorch_drl.envs.bit_flip import BitFlipping\n",
    "from pytorch_drl.algs.her import HER\n",
    "\n",
    "%matplotlib inline\n",
    "%load_ext autoreload\n",
    "%autoreload 2"
   ]
  },
  {
   "cell_type": "code",
   "execution_count": 2,
   "metadata": {},
   "outputs": [
    {
     "name": "stdout",
     "output_type": "stream",
     "text": [
      "Device: cuda:0\n"
     ]
    }
   ],
   "source": [
    "device = torch.device(\"cuda:0\" if torch.cuda.is_available() else \"cpu\")#\n",
    "#device = \"cpu\"\n",
    "print(\"Device:\", device)\n"
   ]
  },
  {
   "cell_type": "markdown",
   "metadata": {},
   "source": [
    "## 1. Define Utils:\n",
    "\n",
    "### 1.1 Plotting:"
   ]
  },
  {
   "cell_type": "code",
   "execution_count": 3,
   "metadata": {},
   "outputs": [],
   "source": [
    "def mean_filter(arr, filter_len):\n",
    "    arr = np.concatenate([[arr[0]]*(filter_len-1), arr])\n",
    "    filter_arr = np.ones(filter_len)/filter_len\n",
    "    arr = arr\n",
    "    output = list()\n",
    "    for i in range(filter_len-1, len(arr)):\n",
    "        conv = np.sum(filter_arr * arr[i-filter_len+1:i+1])\n",
    "        output.append(conv)\n",
    "    return output\n",
    "\n",
    "def plot(scores, n=None):\n",
    "    if n is not None:\n",
    "        scores = mean_filter(scores, n)\n",
    "    clear_output(True)\n",
    "    fig = plt.figure()\n",
    "    ax = fig.add_subplot(111)\n",
    "    plt.plot(np.arange(len(scores)), scores)\n",
    "    plt.ylabel('Score')\n",
    "    plt.xlabel('Episode')\n",
    "    plt.show()"
   ]
  },
  {
   "cell_type": "markdown",
   "metadata": {},
   "source": [
    "## 2. Create environment"
   ]
  },
  {
   "cell_type": "code",
   "execution_count": 63,
   "metadata": {},
   "outputs": [
    {
     "name": "stdout",
     "output_type": "stream",
     "text": [
      "State size: (15,) \tGoal size: (15,)\n",
      "inp size: (30,)\n"
     ]
    }
   ],
   "source": [
    "num_bits = 15\n",
    "env = BitFlipping(num_bits)\n",
    "env.seed(0)\n",
    "\n",
    "state_size =  env.observation_space.shape[0]\n",
    "s, g = env.reset()\n",
    "print(\"State size:\", s.shape, \"\\tGoal size:\", g.shape)\n",
    "\n",
    "action_size = env.action_space.n\n",
    "\n",
    "network_input_shape = np.concatenate([s, g], axis=-1).shape\n",
    "print(\"inp size:\", network_input_shape)"
   ]
  },
  {
   "cell_type": "markdown",
   "metadata": {},
   "source": [
    "## 3. HER + DQN Test\n",
    "\n"
   ]
  },
  {
   "cell_type": "code",
   "execution_count": 64,
   "metadata": {
    "scrolled": true
   },
   "outputs": [],
   "source": [
    "import pytorch_drl.models.rainbow_models as models\n",
    "from pytorch_drl.algs.rainbow import Rainbow\n",
    "network_input_shape = np.concatenate([s, g], axis=-1).shape[0]"
   ]
  },
  {
   "cell_type": "code",
   "execution_count": 93,
   "metadata": {},
   "outputs": [
    {
     "data": {
      "image/png": "[encoded data removed]",
      "text/plain": [
       "<Figure size 432x288 with 1 Axes>"
      ]
     },
     "metadata": {
      "needs_background": "light"
     },
     "output_type": "display_data"
    }
   ],
   "source": [
    "dqn_model1 = models.DQNNetwork(network_input_shape, action_size, H=512)\n",
    "dqn_model2 = models.DQNNetwork(network_input_shape, action_size, H=512)\n",
    "dqn_model2.load_state_dict(dqn_model1.state_dict())\n",
    "\n",
    "alg_constr = Rainbow\n",
    "alg_args = (network_input_shape, action_size, 0)\n",
    "alg_kwargs=dict(\n",
    "             ddqn = True,\n",
    "             model1 = dqn_model1,\n",
    "             model2 = dqn_model2,\n",
    "             gamma = 0.99,\n",
    "             buf_size = int(1e5),\n",
    "             batch_size = 64,\n",
    "             tau = 1e-3,\n",
    "             device = device\n",
    ")\n",
    "\n",
    "agent = HER(env, alg_constr, alg_args, alg_kwargs)\n",
    "n_episodes = 12_000\n",
    "scores = agent.train(n_episodes, t_max=num_bits+5, n_epochs=1, max_score=0, strategy='next')\n",
    "# plot the training:\n",
    "plot(scores, n=500)"
   ]
  },
  {
   "cell_type": "markdown",
   "metadata": {},
   "source": [
    "## HER + DDPG for a Continuous Task"
   ]
  },
  {
   "cell_type": "code",
   "execution_count": 17,
   "metadata": {},
   "outputs": [],
   "source": [
    "# Puck push env\n",
    "# TODO\n",
    "env_id = \"\""
   ]
  },
  {
   "cell_type": "code",
   "execution_count": null,
   "metadata": {},
   "outputs": [],
   "source": [
    "value_net_constructor = models.DDPGValueNetwork\n",
    "value_net_args = (state_size, action_size, 256, 256)\n",
    "\n",
    "policy_net_constructor = models.DDPGPolicyNetwork\n",
    "policy_net_args = (state_size, action_size, 256, 256)\n",
    "\n",
    "max_act = env.action_space.high\n",
    "min_act = env.action_space.low\n",
    "\n",
    "noise_proc = Gaussian(x_size=env.action_space.shape, \n",
    "                      mu=0., sigma_init=0.1, sigma_final=1, \n",
    "                      sigma_horizon=1)\n",
    "\n",
    "action = env.action_space.sample()\n",
    "lr_val = 1e-3\n",
    "lr_pol = 1e-3\n",
    "\n",
    "alg_constr = TD3\n",
    "alg_args = (policy_net_constructor=policy_net_constructor,\n",
    "            policy_net_args=policy_net_args,\n",
    "            value_net_constructor=value_net_constructor,\n",
    "            value_net_args=value_net_args,\n",
    "            policy_noise=0.2,\n",
    "            noise_clip=0.5,\n",
    "            gamma=0.99, \n",
    "            lr_val=lr_val,\n",
    "            lr_pol=lr_pol,\n",
    "            prioritized_replay=False,\n",
    "            is_beta=0.6,\n",
    "            beta_horz=10e5,\n",
    "            pr_alpha=0.0,\n",
    "            buf_size=int(1e6),\n",
    "            batch_size=128,\n",
    "            tau=1e-2,\n",
    "            device=device,\n",
    "            normalize_rewards=False,\n",
    "            max_grad_norm=0.5,\n",
    "            n=1,\n",
    "            nstep=False,\n",
    "            min_act=min_act,\n",
    "            max_act=max_act,\n",
    "            warm_up=1e4,\n",
    "            noise_process=noise_proc,\n",
    "            update_interval=2,\n",
    "            seed=0\n",
    "                )\n",
    "\n",
    "# TODO\n",
    "td3_her = HER(env_id, alg_constr, alg_args)\n",
    "\n",
    "# ..."
   ]
  },
  {
   "cell_type": "code",
   "execution_count": null,
   "metadata": {},
   "outputs": [],
   "source": []
  }
 ],
 "metadata": {
  "kernelspec": {
   "display_name": "Python (ml-agents)",
   "language": "python",
   "name": "ml-agents"
  },
  "language_info": {
   "codemirror_mode": {
    "name": "ipython",
    "version": 3
   },
   "file_extension": ".py",
   "mimetype": "text/x-python",
   "name": "python",
   "nbconvert_exporter": "python",
   "pygments_lexer": "ipython3",
   "version": "3.6.10"
  }
 },
 "nbformat": 4,
 "nbformat_minor": 2
}
