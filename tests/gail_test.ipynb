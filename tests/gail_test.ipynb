{
 "cells": [
  {
   "cell_type": "code",
   "execution_count": 1,
   "metadata": {},
   "outputs": [],
   "source": [
    "import sys; sys.path.insert(0, '..')\n",
    "\n",
    "import gym\n",
    "import sys\n",
    "import torch\n",
    "import tester\n",
    "import numpy as np\n",
    "import matplotlib.pyplot as plt\n",
    "from IPython.display import clear_output, Javascript\n",
    "\n",
    "import pytorch_drl.models.ppo_models as models\n",
    "import pytorch_drl.models.gail_models as gail_models\n",
    "\n",
    "from pytorch_drl.algs.gail import GAIL\n",
    "\n",
    "%matplotlib inline\n",
    "%load_ext autoreload\n",
    "%autoreload 2"
   ]
  },
  {
   "cell_type": "code",
   "execution_count": 2,
   "metadata": {},
   "outputs": [
    {
     "name": "stdout",
     "output_type": "stream",
     "text": [
      "Device: cuda:0\n"
     ]
    }
   ],
   "source": [
    "device =torch.device(\"cuda:0\" if torch.cuda.is_available() else \"cpu\")\n",
    "print(\"Device:\", device)"
   ]
  },
  {
   "cell_type": "markdown",
   "metadata": {},
   "source": [
    "## 1. Define Utils:\n",
    "\n",
    "### 1.1 Plotting:"
   ]
  },
  {
   "cell_type": "code",
   "execution_count": 3,
   "metadata": {},
   "outputs": [],
   "source": [
    "def mean_filter(arr, filter_len):\n",
    "    arr = np.concatenate([[0]*(filter_len-1), arr])\n",
    "    filter_arr = np.ones(filter_len)/filter_len\n",
    "    arr = arr\n",
    "    output = list()\n",
    "    for i in range(filter_len-1, len(arr)):\n",
    "        conv = np.sum(filter_arr * arr[i-filter_len+1:i+1])\n",
    "        output.append(conv)\n",
    "    return output\n",
    "\n",
    "def plot(scores, n=None):\n",
    "    if n is not None:\n",
    "        scores = mean_filter(scores, n)\n",
    "    clear_output(True)\n",
    "    fig = plt.figure()\n",
    "    ax = fig.add_subplot(111)\n",
    "    plt.plot(np.arange(len(scores)), scores)\n",
    "    plt.ylabel('Score')\n",
    "    plt.xlabel('Episode')\n",
    "    plt.show()"
   ]
  },
  {
   "cell_type": "markdown",
   "metadata": {},
   "source": [
    "## 2. Create environment"
   ]
  },
  {
   "cell_type": "code",
   "execution_count": 4,
   "metadata": {},
   "outputs": [
    {
     "name": "stderr",
     "output_type": "stream",
     "text": [
      "/home/selo/Envs/ml-agent_/gym/gym/logger.py:30: UserWarning: \u001b[33mWARN: Box bound precision lowered by casting to float32\u001b[0m\n",
      "  warnings.warn(colorize('%s: %s'%('WARN', msg % args), 'yellow'))\n"
     ]
    },
    {
     "name": "stdout",
     "output_type": "stream",
     "text": [
      "State size: 4 \n",
      "Action size: 2\n"
     ]
    }
   ],
   "source": [
    "env_name = \"CartPole-v0\"\n",
    "env = gym.make(env_name)\n",
    "env.seed(0)\n",
    "\n",
    "state_size =  env.observation_space.shape[0]\n",
    "action_size = env.action_space.n\n",
    "\n",
    "print(\"State size:\", state_size, \"\\nAction size:\", action_size)"
   ]
  },
  {
   "cell_type": "markdown",
   "metadata": {},
   "source": [
    "## 4. GAIL Test"
   ]
  },
  {
   "cell_type": "code",
   "execution_count": 5,
   "metadata": {},
   "outputs": [],
   "source": [
    "expert_trajectories = np.load(\"experts/ppo_{}\".format(env_name))"
   ]
  },
  {
   "cell_type": "code",
   "execution_count": 6,
   "metadata": {},
   "outputs": [
    {
     "name": "stdout",
     "output_type": "stream",
     "text": [
      "(300000, 6)\n"
     ]
    }
   ],
   "source": [
    "print(expert_trajectories.shape)"
   ]
  },
  {
   "cell_type": "code",
   "execution_count": 9,
   "metadata": {},
   "outputs": [
    {
     "name": "stdout",
     "output_type": "stream",
     "text": [
      "AVG score is 195.12, i: 763                    Solved! Episode 0\n"
     ]
    },
    {
     "data": {
      "image/png": "[encoded data removed]",
      "text/plain": [
       "<Figure size 432x288 with 1 Axes>"
      ]
     },
     "metadata": {
      "needs_background": "light"
     },
     "output_type": "display_data"
    },
    {
     "name": "stderr",
     "output_type": "stream",
     "text": [
      "Process Process-15:\n",
      "Process Process-17:\n",
      "Process Process-14:\n",
      "Process Process-16:\n",
      "Process Process-13:\n",
      "Process Process-18:\n",
      "Process Process-12:\n",
      "Process Process-11:\n",
      "Traceback (most recent call last):\n",
      "Traceback (most recent call last):\n",
      "Traceback (most recent call last):\n",
      "Traceback (most recent call last):\n",
      "  File \"/home/selo/anaconda3/envs/ml-agents/lib/python3.6/multiprocessing/process.py\", line 258, in _bootstrap\n",
      "    self.run()\n",
      "  File \"/home/selo/anaconda3/envs/ml-agents/lib/python3.6/multiprocessing/process.py\", line 258, in _bootstrap\n",
      "    self.run()\n",
      "Traceback (most recent call last):\n",
      "  File \"/home/selo/anaconda3/envs/ml-agents/lib/python3.6/multiprocessing/process.py\", line 258, in _bootstrap\n",
      "    self.run()\n",
      "Traceback (most recent call last):\n",
      "Traceback (most recent call last):\n",
      "Traceback (most recent call last):\n",
      "  File \"/home/selo/anaconda3/envs/ml-agents/lib/python3.6/multiprocessing/process.py\", line 93, in run\n",
      "    self._target(*self._args, **self._kwargs)\n",
      "  File \"/home/selo/anaconda3/envs/ml-agents/lib/python3.6/multiprocessing/process.py\", line 93, in run\n",
      "    self._target(*self._args, **self._kwargs)\n",
      "  File \"/home/selo/anaconda3/envs/ml-agents/lib/python3.6/multiprocessing/process.py\", line 258, in _bootstrap\n",
      "    self.run()\n",
      "  File \"/home/selo/anaconda3/envs/ml-agents/lib/python3.6/multiprocessing/process.py\", line 258, in _bootstrap\n",
      "    self.run()\n",
      "  File \"/home/selo/anaconda3/envs/ml-agents/lib/python3.6/multiprocessing/process.py\", line 258, in _bootstrap\n",
      "    self.run()\n",
      "  File \"../pytorch_drl/utils/parallel_env.py\", line 124, in worker\n",
      "    cmd, data = remote.recv()\n",
      "  File \"../pytorch_drl/utils/parallel_env.py\", line 124, in worker\n",
      "    cmd, data = remote.recv()\n",
      "  File \"/home/selo/anaconda3/envs/ml-agents/lib/python3.6/multiprocessing/process.py\", line 258, in _bootstrap\n",
      "    self.run()\n",
      "  File \"/home/selo/anaconda3/envs/ml-agents/lib/python3.6/multiprocessing/process.py\", line 258, in _bootstrap\n",
      "    self.run()\n",
      "  File \"/home/selo/anaconda3/envs/ml-agents/lib/python3.6/multiprocessing/process.py\", line 93, in run\n",
      "    self._target(*self._args, **self._kwargs)\n",
      "  File \"/home/selo/anaconda3/envs/ml-agents/lib/python3.6/multiprocessing/process.py\", line 93, in run\n",
      "    self._target(*self._args, **self._kwargs)\n",
      "  File \"/home/selo/anaconda3/envs/ml-agents/lib/python3.6/multiprocessing/process.py\", line 93, in run\n",
      "    self._target(*self._args, **self._kwargs)\n",
      "  File \"/home/selo/anaconda3/envs/ml-agents/lib/python3.6/multiprocessing/process.py\", line 93, in run\n",
      "    self._target(*self._args, **self._kwargs)\n",
      "  File \"../pytorch_drl/utils/parallel_env.py\", line 124, in worker\n",
      "    cmd, data = remote.recv()\n",
      "  File \"../pytorch_drl/utils/parallel_env.py\", line 124, in worker\n",
      "    cmd, data = remote.recv()\n",
      "  File \"/home/selo/anaconda3/envs/ml-agents/lib/python3.6/multiprocessing/connection.py\", line 250, in recv\n",
      "    buf = self._recv_bytes()\n",
      "  File \"/home/selo/anaconda3/envs/ml-agents/lib/python3.6/multiprocessing/connection.py\", line 250, in recv\n",
      "    buf = self._recv_bytes()\n",
      "  File \"/home/selo/anaconda3/envs/ml-agents/lib/python3.6/multiprocessing/process.py\", line 93, in run\n",
      "    self._target(*self._args, **self._kwargs)\n",
      "  File \"/home/selo/anaconda3/envs/ml-agents/lib/python3.6/multiprocessing/connection.py\", line 407, in _recv_bytes\n",
      "    buf = self._recv(4)\n",
      "  File \"../pytorch_drl/utils/parallel_env.py\", line 124, in worker\n",
      "    cmd, data = remote.recv()\n",
      "  File \"/home/selo/anaconda3/envs/ml-agents/lib/python3.6/multiprocessing/connection.py\", line 250, in recv\n",
      "    buf = self._recv_bytes()\n",
      "  File \"/home/selo/anaconda3/envs/ml-agents/lib/python3.6/multiprocessing/process.py\", line 93, in run\n",
      "    self._target(*self._args, **self._kwargs)\n",
      "  File \"../pytorch_drl/utils/parallel_env.py\", line 124, in worker\n",
      "    cmd, data = remote.recv()\n",
      "  File \"../pytorch_drl/utils/parallel_env.py\", line 124, in worker\n",
      "    cmd, data = remote.recv()\n",
      "  File \"/home/selo/anaconda3/envs/ml-agents/lib/python3.6/multiprocessing/connection.py\", line 407, in _recv_bytes\n",
      "    buf = self._recv(4)\n",
      "  File \"/home/selo/anaconda3/envs/ml-agents/lib/python3.6/multiprocessing/connection.py\", line 250, in recv\n",
      "    buf = self._recv_bytes()\n",
      "  File \"/home/selo/anaconda3/envs/ml-agents/lib/python3.6/multiprocessing/connection.py\", line 407, in _recv_bytes\n",
      "    buf = self._recv(4)\n",
      "  File \"/home/selo/anaconda3/envs/ml-agents/lib/python3.6/multiprocessing/connection.py\", line 250, in recv\n",
      "    buf = self._recv_bytes()\n",
      "  File \"../pytorch_drl/utils/parallel_env.py\", line 124, in worker\n",
      "    cmd, data = remote.recv()\n",
      "  File \"/home/selo/anaconda3/envs/ml-agents/lib/python3.6/multiprocessing/connection.py\", line 379, in _recv\n",
      "    chunk = read(handle, remaining)\n",
      "  File \"/home/selo/anaconda3/envs/ml-agents/lib/python3.6/multiprocessing/connection.py\", line 250, in recv\n",
      "    buf = self._recv_bytes()\n",
      "  File \"/home/selo/anaconda3/envs/ml-agents/lib/python3.6/multiprocessing/connection.py\", line 379, in _recv\n",
      "    chunk = read(handle, remaining)\n",
      "  File \"/home/selo/anaconda3/envs/ml-agents/lib/python3.6/multiprocessing/connection.py\", line 407, in _recv_bytes\n",
      "    buf = self._recv(4)\n",
      "  File \"/home/selo/anaconda3/envs/ml-agents/lib/python3.6/multiprocessing/connection.py\", line 250, in recv\n",
      "    buf = self._recv_bytes()\n",
      "  File \"/home/selo/anaconda3/envs/ml-agents/lib/python3.6/multiprocessing/connection.py\", line 250, in recv\n",
      "    buf = self._recv_bytes()\n",
      "  File \"/home/selo/anaconda3/envs/ml-agents/lib/python3.6/multiprocessing/connection.py\", line 379, in _recv\n",
      "    chunk = read(handle, remaining)\n",
      "KeyboardInterrupt\n",
      "  File \"/home/selo/anaconda3/envs/ml-agents/lib/python3.6/multiprocessing/connection.py\", line 379, in _recv\n",
      "    chunk = read(handle, remaining)\n",
      "KeyboardInterrupt\n",
      "KeyboardInterrupt\n",
      "  File \"/home/selo/anaconda3/envs/ml-agents/lib/python3.6/multiprocessing/connection.py\", line 407, in _recv_bytes\n",
      "    buf = self._recv(4)\n",
      "  File \"/home/selo/anaconda3/envs/ml-agents/lib/python3.6/multiprocessing/connection.py\", line 407, in _recv_bytes\n",
      "    buf = self._recv(4)\n",
      "KeyboardInterrupt\n",
      "  File \"/home/selo/anaconda3/envs/ml-agents/lib/python3.6/multiprocessing/connection.py\", line 379, in _recv\n",
      "    chunk = read(handle, remaining)\n",
      "  File \"/home/selo/anaconda3/envs/ml-agents/lib/python3.6/multiprocessing/connection.py\", line 407, in _recv_bytes\n",
      "    buf = self._recv(4)\n",
      "  File \"/home/selo/anaconda3/envs/ml-agents/lib/python3.6/multiprocessing/connection.py\", line 407, in _recv_bytes\n",
      "    buf = self._recv(4)\n",
      "  File \"/home/selo/anaconda3/envs/ml-agents/lib/python3.6/multiprocessing/connection.py\", line 379, in _recv\n",
      "    chunk = read(handle, remaining)\n",
      "KeyboardInterrupt\n",
      "  File \"/home/selo/anaconda3/envs/ml-agents/lib/python3.6/multiprocessing/connection.py\", line 379, in _recv\n",
      "    chunk = read(handle, remaining)\n",
      "KeyboardInterrupt\n",
      "KeyboardInterrupt\n",
      "  File \"/home/selo/anaconda3/envs/ml-agents/lib/python3.6/multiprocessing/connection.py\", line 379, in _recv\n",
      "    chunk = read(handle, remaining)\n",
      "KeyboardInterrupt\n"
     ]
    }
   ],
   "source": [
    "ppo_net_constr = models.PPOPolicyNetwork\n",
    "ppo_net_args = (state_size, action_size)\n",
    "\n",
    "discriminator_constr = gail_models.GAILDiscriminator\n",
    "discriminator_args = (state_size, action_size)\n",
    "\n",
    "tmax = 5\n",
    "n_traj = 2000\n",
    "n_env = 8\n",
    "ppo_epochs = 4\n",
    "batch_size = 32\n",
    "\n",
    "# init agent:\n",
    "agent = GAIL(ppo_net_constr,\n",
    "             ppo_net_args,\n",
    "             discriminator_constr,\n",
    "             discriminator_args,\n",
    "             expert_trajectories,\n",
    "             env_name,\n",
    "             action_size,\n",
    "             gamma=0.99, \n",
    "             gail_epochs=1,\n",
    "             ppo_epochs=ppo_epochs,\n",
    "             lr_ppo=3e-3, \n",
    "             lr_discriminator=3e-3,\n",
    "             tau=0.95,\n",
    "             n_env=n_env,\n",
    "             device=device,\n",
    "             max_grad_norm=0.5,\n",
    "             critic_coef=0.5,\n",
    "             entropy_coef=0.01,\n",
    "             mini_batch_size=batch_size,\n",
    "             )\n",
    "   \n",
    "    \n",
    "# train the agent\n",
    "scores, losses = agent.train(tmax, n_traj,  env)\n",
    "\n",
    "# plot the training:\n",
    "x = np.arange(len(scores))\n",
    "scores = mean_filter(scores, 50)\n",
    "plt.plot(x, scores, label = \"scores\")\n",
    "plt.show()"
   ]
  },
  {
   "cell_type": "markdown",
   "metadata": {},
   "source": [
    "### 4.1 Trained Agent Demonstration"
   ]
  },
  {
   "cell_type": "code",
   "execution_count": 14,
   "metadata": {},
   "outputs": [
    {
     "name": "stdout",
     "output_type": "stream",
     "text": [
      "200.0\n",
      "200.0\n",
      "200.0\n",
      "200.0\n",
      "200.0\n"
     ]
    }
   ],
   "source": [
    "agent.test(env, render=True, n_times=5)"
   ]
  },
  {
   "cell_type": "markdown",
   "metadata": {},
   "source": [
    "## 5. GAIL Continuous Test\n"
   ]
  },
  {
   "cell_type": "code",
   "execution_count": null,
   "metadata": {},
   "outputs": [],
   "source": []
  }
 ],
 "metadata": {
  "kernelspec": {
   "display_name": "Python (ml-agents)",
   "language": "python",
   "name": "ml-agents"
  },
  "language_info": {
   "codemirror_mode": {
    "name": "ipython",
    "version": 3
   },
   "file_extension": ".py",
   "mimetype": "text/x-python",
   "name": "python",
   "nbconvert_exporter": "python",
   "pygments_lexer": "ipython3",
   "version": "3.6.10"
  }
 },
 "nbformat": 4,
 "nbformat_minor": 2
}
