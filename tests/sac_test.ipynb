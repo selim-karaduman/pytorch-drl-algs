{
 "cells": [
  {
   "cell_type": "code",
   "execution_count": 1,
   "metadata": {},
   "outputs": [],
   "source": [
    "import sys; sys.path.insert(0, '..')\n",
    "\n",
    "import gym\n",
    "import sys\n",
    "import torch\n",
    "import numpy as np\n",
    "import matplotlib.pyplot as plt\n",
    "from IPython.display import clear_output, Javascript\n",
    "\n",
    "from notebook_utils import plot, mean_filter\n",
    "import pytorch_drl.models.sac_models as models\n",
    "from pytorch_drl.utils.exploration import *\n",
    "from pytorch_drl.algs.sac import SAC\n",
    "\n",
    "%matplotlib inline\n",
    "%load_ext autoreload\n",
    "%autoreload 2"
   ]
  },
  {
   "cell_type": "code",
   "execution_count": 2,
   "metadata": {},
   "outputs": [
    {
     "name": "stdout",
     "output_type": "stream",
     "text": [
      "Device: cuda:0\n"
     ]
    }
   ],
   "source": [
    "device = torch.device(\"cuda:0\" if torch.cuda.is_available() else \"cpu\")#\n",
    "print(\"Device:\", device)\n"
   ]
  },
  {
   "cell_type": "markdown",
   "metadata": {},
   "source": [
    "## Create environment"
   ]
  },
  {
   "cell_type": "code",
   "execution_count": 4,
   "metadata": {},
   "outputs": [
    {
     "name": "stdout",
     "output_type": "stream",
     "text": [
      "State size: 3 \n",
      "Action size: 1\n",
      "[2.] [-2.]\n"
     ]
    },
    {
     "name": "stderr",
     "output_type": "stream",
     "text": [
      "/home/selo/Envs/ml-agent_/gym/gym/logger.py:30: UserWarning: \u001b[33mWARN: Box bound precision lowered by casting to float32\u001b[0m\n",
      "  warnings.warn(colorize('%s: %s'%('WARN', msg % args), 'yellow'))\n"
     ]
    }
   ],
   "source": [
    "env_name = \"Pendulum-v0\"\n",
    "env = gym.make(env_name)\n",
    "env.seed(0)\n",
    "\n",
    "state_size =  env.observation_space.shape[0]\n",
    "action_size = env.action_space.shape[0]\n",
    "\n",
    "print(\"State size:\", state_size, \"\\nAction size:\", action_size)\n",
    "print(env.action_space.high, env.action_space.low)"
   ]
  },
  {
   "cell_type": "markdown",
   "metadata": {},
   "source": [
    "## Define parameters"
   ]
  },
  {
   "cell_type": "code",
   "execution_count": 6,
   "metadata": {},
   "outputs": [],
   "source": [
    "tmax = 500\n",
    "n_episodes = 500\n",
    "seed = 0"
   ]
  },
  {
   "cell_type": "markdown",
   "metadata": {},
   "source": [
    "## SAC Test\n",
    "\n"
   ]
  },
  {
   "cell_type": "code",
   "execution_count": 7,
   "metadata": {
    "scrolled": true
   },
   "outputs": [
    {
     "data": {
      "image/png": "[encoded data removed]",
      "text/plain": [
       "<Figure size 432x288 with 1 Axes>"
      ]
     },
     "metadata": {
      "needs_background": "light"
     },
     "output_type": "display_data"
    }
   ],
   "source": [
    "value_net1 = models.SACValueNetwork(state_size, action_size, 256, 256)\n",
    "value_net2 = models.SACValueNetwork(state_size, action_size, 256, 256)\n",
    "policy_net = models.SACPolicyNetwork(state_size, action_size, 256, 256)\n",
    "\n",
    "max_act = env.action_space.high\n",
    "min_act = env.action_space.low\n",
    "\n",
    "lr_val = 1e-3\n",
    "lr_pol = 1e-3\n",
    "\n",
    "\n",
    "\n",
    "agent = SAC(policy_net=policy_net,\n",
    "             value_net1=value_net1,\n",
    "             value_net2=value_net1,\n",
    "             lr_val=lr_val,\n",
    "             lr_pol=lr_pol,\n",
    "             buf_size=int(1e5),\n",
    "             batch_size=64,\n",
    "             tau=1e-3,\n",
    "             device=device,\n",
    "             max_grad_norm=0.5,\n",
    "             min_act=min_act,\n",
    "             max_act=max_act,\n",
    "             warm_up=1e2,\n",
    "             learn_every=2)\n",
    "\n",
    "alg_name = \"sac_{}\".format(env_name)\n",
    "max_score = -20.\n",
    "scores = agent.train(env, tmax, n_episodes, alg_name, max_score)\n",
    "plot(scores, 50)"
   ]
  },
  {
   "cell_type": "markdown",
   "metadata": {},
   "source": [
    "### Trained Agent Demonstration"
   ]
  },
  {
   "cell_type": "code",
   "execution_count": null,
   "metadata": {},
   "outputs": [],
   "source": [
    "agent.test(env, tmax, render=True, n_episodes=5)"
   ]
  }
 ],
 "metadata": {
  "kernelspec": {
   "display_name": "Python (ml-agents)",
   "language": "python",
   "name": "ml-agents"
  },
  "language_info": {
   "codemirror_mode": {
    "name": "ipython",
    "version": 3
   },
   "file_extension": ".py",
   "mimetype": "text/x-python",
   "name": "python",
   "nbconvert_exporter": "python",
   "pygments_lexer": "ipython3",
   "version": "3.6.10"
  }
 },
 "nbformat": 4,
 "nbformat_minor": 2
}
