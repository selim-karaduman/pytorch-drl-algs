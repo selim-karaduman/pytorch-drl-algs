{
 "cells": [
  {
   "cell_type": "code",
   "execution_count": 1,
   "metadata": {},
   "outputs": [],
   "source": [
    "import sys; sys.path.insert(0, '..')\n",
    "\n",
    "import gym\n",
    "import sys\n",
    "import torch\n",
    "import tester\n",
    "import numpy as np\n",
    "import matplotlib.pyplot as plt\n",
    "from IPython.display import clear_output, Javascript\n",
    "\n",
    "import pytorch_drl.models.sac_models as models\n",
    "from pytorch_drl.utils.exploration import *\n",
    "from pytorch_drl.algs.sac import SAC\n",
    "\n",
    "%matplotlib inline\n",
    "%load_ext autoreload\n",
    "%autoreload 2"
   ]
  },
  {
   "cell_type": "code",
   "execution_count": 2,
   "metadata": {},
   "outputs": [
    {
     "name": "stdout",
     "output_type": "stream",
     "text": [
      "Device: cuda:0\n"
     ]
    }
   ],
   "source": [
    "device = torch.device(\"cuda:0\" if torch.cuda.is_available() else \"cpu\")#\n",
    "print(\"Device:\", device)\n"
   ]
  },
  {
   "cell_type": "markdown",
   "metadata": {},
   "source": [
    "## 1. Define Utils:\n",
    "\n",
    "### 1.1 Plotting:"
   ]
  },
  {
   "cell_type": "code",
   "execution_count": 3,
   "metadata": {},
   "outputs": [],
   "source": [
    "def mean_filter(arr, filter_len):\n",
    "    arr = np.concatenate([[arr[0]]*(filter_len-1), arr])\n",
    "    filter_arr = np.ones(filter_len)/filter_len\n",
    "    arr = arr\n",
    "    output = list()\n",
    "    for i in range(filter_len-1, len(arr)):\n",
    "        conv = np.sum(filter_arr * arr[i-filter_len+1:i+1])\n",
    "        output.append(conv)\n",
    "    return output\n",
    "\n",
    "def plot(scores, n=None):\n",
    "    if n is not None:\n",
    "        scores = mean_filter(scores, n)\n",
    "    clear_output(True)\n",
    "    fig = plt.figure()\n",
    "    ax = fig.add_subplot(111)\n",
    "    plt.plot(np.arange(len(scores)), scores)\n",
    "    plt.ylabel('Score')\n",
    "    plt.xlabel('Episode')\n",
    "    plt.show()"
   ]
  },
  {
   "cell_type": "markdown",
   "metadata": {},
   "source": [
    "## 2. Create environment"
   ]
  },
  {
   "cell_type": "code",
   "execution_count": 4,
   "metadata": {},
   "outputs": [
    {
     "name": "stderr",
     "output_type": "stream",
     "text": [
      "/home/selo/Envs/ml-agent_/gym/gym/logger.py:30: UserWarning: \u001b[33mWARN: Box bound precision lowered by casting to float32\u001b[0m\n",
      "  warnings.warn(colorize('%s: %s'%('WARN', msg % args), 'yellow'))\n"
     ]
    },
    {
     "name": "stdout",
     "output_type": "stream",
     "text": [
      "State size: 3 \n",
      "Action size: 1\n",
      "[2.] [-2.]\n"
     ]
    }
   ],
   "source": [
    "env_name = \"Pendulum-v0\"\n",
    "env = gym.make(env_name)\n",
    "env.seed(0)\n",
    "\n",
    "state_size =  env.observation_space.shape[0]\n",
    "action_size = env.action_space.shape[0]\n",
    "\n",
    "print(\"State size:\", state_size, \"\\nAction size:\", action_size)\n",
    "print(env.action_space.high, env.action_space.low)"
   ]
  },
  {
   "cell_type": "markdown",
   "metadata": {},
   "source": [
    "## 3. Define parameters"
   ]
  },
  {
   "cell_type": "code",
   "execution_count": 21,
   "metadata": {},
   "outputs": [],
   "source": [
    "max_t = 1000\n",
    "n_episodes = 1_000\n",
    "seed = 0"
   ]
  },
  {
   "cell_type": "markdown",
   "metadata": {},
   "source": [
    "## 4. SAC Test\n",
    "\n"
   ]
  },
  {
   "cell_type": "code",
   "execution_count": 22,
   "metadata": {
    "scrolled": true
   },
   "outputs": [
    {
     "data": {
      "image/png": "[encoded data removed]",
      "text/plain": [
       "<Figure size 432x288 with 1 Axes>"
      ]
     },
     "metadata": {
      "needs_background": "light"
     },
     "output_type": "display_data"
    }
   ],
   "source": [
    "value_net_constructor = models.SACValueNetwork\n",
    "value_net_args = (state_size, action_size, 256, 256)\n",
    "\n",
    "policy_net_constructor = models.SACPolicyNetwork\n",
    "policy_net_args = (state_size, action_size, 256, 256)\n",
    "\n",
    "max_act = env.action_space.high\n",
    "min_act = env.action_space.low\n",
    "\n",
    "lr_val = 1e-3\n",
    "lr_pol = 1e-3\n",
    "\n",
    "\n",
    "agent = SAC(policy_net_constructor=policy_net_constructor,\n",
    "            policy_net_args=policy_net_args,\n",
    "            value_net_constructor=value_net_constructor,\n",
    "            value_net_args=value_net_args,\n",
    "            policy_noise=0.2,\n",
    "            entropy_alpha=0.2,\n",
    "            gamma=0.99, \n",
    "            lr_val=lr_val,\n",
    "            lr_pol=lr_pol,\n",
    "            buf_size=int(1e5),\n",
    "            batch_size=64,\n",
    "            tau=1e-3,\n",
    "            device=device,\n",
    "            max_grad_norm=0.5,\n",
    "            min_act=min_act,\n",
    "            max_act=max_act,\n",
    "            noise_process=None,\n",
    "            warm_up=1e2,\n",
    "            learn_interval=2,\n",
    "            seed=0\n",
    "                )\n",
    "\n",
    "# train the agent\n",
    "scores = tester.train_agent(agent, env, max_t, n_episodes,\n",
    "                            \"sac_pendulum\", render_freq=1000, log=True, max_score=-50, test_freq=20, save_models=False)\n",
    "# plot the training:\n",
    "plot(scores, 100)"
   ]
  },
  {
   "cell_type": "markdown",
   "metadata": {},
   "source": [
    "### 4.1 Trained Agent Demonstration"
   ]
  },
  {
   "cell_type": "code",
   "execution_count": 28,
   "metadata": {},
   "outputs": [
    {
     "name": "stdout",
     "output_type": "stream",
     "text": [
      "-122.87089049645112\n",
      "-0.5757486186813088\n",
      "-119.86378641336864\n",
      "-118.60318444686068\n",
      "-120.27822931708077\n"
     ]
    },
    {
     "data": {
      "text/plain": [
       "-96.4383678584885"
      ]
     },
     "execution_count": 28,
     "metadata": {},
     "output_type": "execute_result"
    }
   ],
   "source": [
    "tester.test_agent(agent, env, max_t, render=True, num_of_episodes=5, log=True)"
   ]
  }
 ],
 "metadata": {
  "kernelspec": {
   "display_name": "Python (ml-agents)",
   "language": "python",
   "name": "ml-agents"
  },
  "language_info": {
   "codemirror_mode": {
    "name": "ipython",
    "version": 3
   },
   "file_extension": ".py",
   "mimetype": "text/x-python",
   "name": "python",
   "nbconvert_exporter": "python",
   "pygments_lexer": "ipython3",
   "version": "3.6.10"
  }
 },
 "nbformat": 4,
 "nbformat_minor": 2
}
