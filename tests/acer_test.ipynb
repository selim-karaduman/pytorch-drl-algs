{
 "cells": [
  {
   "cell_type": "code",
   "execution_count": 1,
   "metadata": {},
   "outputs": [],
   "source": [
    "import sys; sys.path.insert(0, '..')\n",
    "\n",
    "import gym\n",
    "import sys\n",
    "import torch\n",
    "import tester\n",
    "import numpy as np\n",
    "import matplotlib.pyplot as plt\n",
    "import multiprocessing as mp\n",
    "\n",
    "from IPython.display import clear_output, Javascript\n",
    "\n",
    "import pytorch_drl.models.acer_models as models\n",
    "from pytorch_drl.algs.acer import ACER\n",
    "\n",
    "%matplotlib inline\n",
    "%load_ext autoreload\n",
    "%autoreload 2"
   ]
  },
  {
   "cell_type": "code",
   "execution_count": 2,
   "metadata": {},
   "outputs": [
    {
     "name": "stdout",
     "output_type": "stream",
     "text": [
      "Device: cpu\n"
     ]
    }
   ],
   "source": [
    "device = \"cpu\"\n",
    "print(\"Device:\", device)"
   ]
  },
  {
   "cell_type": "markdown",
   "metadata": {},
   "source": [
    "## 1. Define Utils:\n",
    "\n",
    "### 1.1 Plotting:"
   ]
  },
  {
   "cell_type": "code",
   "execution_count": 3,
   "metadata": {},
   "outputs": [],
   "source": [
    "def mean_filter(arr, filter_len):\n",
    "    arr = np.concatenate([[0]*(filter_len-1), arr])\n",
    "    filter_arr = np.ones(filter_len)/filter_len\n",
    "    arr = arr\n",
    "    output = list()\n",
    "    for i in range(filter_len-1, len(arr)):\n",
    "        conv = np.sum(filter_arr * arr[i-filter_len+1:i+1])\n",
    "        output.append(conv)\n",
    "    return output\n",
    "\n",
    "def plot(scores, n=None):\n",
    "    if n is not None:\n",
    "        scores = mean_filter(scores, n)\n",
    "    clear_output(True)\n",
    "    fig = plt.figure()\n",
    "    ax = fig.add_subplot(111)\n",
    "    plt.plot(np.arange(len(scores)), scores)\n",
    "    plt.ylabel('Score')\n",
    "    plt.xlabel('Episode')\n",
    "    plt.show()"
   ]
  },
  {
   "cell_type": "markdown",
   "metadata": {},
   "source": [
    "## 2. Create environment"
   ]
  },
  {
   "cell_type": "code",
   "execution_count": 4,
   "metadata": {},
   "outputs": [
    {
     "name": "stdout",
     "output_type": "stream",
     "text": [
      "State size: 4 \n",
      "Action size: 2\n"
     ]
    },
    {
     "name": "stderr",
     "output_type": "stream",
     "text": [
      "/home/selo/Envs/ml-agent_/gym/gym/logger.py:30: UserWarning: \u001b[33mWARN: Box bound precision lowered by casting to float32\u001b[0m\n",
      "  warnings.warn(colorize('%s: %s'%('WARN', msg % args), 'yellow'))\n"
     ]
    }
   ],
   "source": [
    "env_name = \"LunarLander-v2\"\n",
    "env_name = \"CartPole-v0\"\n",
    "env = gym.make(env_name)\n",
    "env.seed(0)\n",
    "\n",
    "state_size =  env.observation_space.shape[0]\n",
    "action_size = env.action_space.n\n",
    "\n",
    "print(\"State size:\", state_size, \"\\nAction size:\", action_size)"
   ]
  },
  {
   "cell_type": "markdown",
   "metadata": {},
   "source": [
    "## 3. Define networks"
   ]
  },
  {
   "cell_type": "code",
   "execution_count": 5,
   "metadata": {},
   "outputs": [],
   "source": [
    "acer_model = models.ACERModel(state_size, action_size)"
   ]
  },
  {
   "cell_type": "markdown",
   "metadata": {},
   "source": [
    "## 4. ACER Test"
   ]
  },
  {
   "cell_type": "code",
   "execution_count": 16,
   "metadata": {},
   "outputs": [
    {
     "name": "stderr",
     "output_type": "stream",
     "text": [
      "../torch/csrc/utils/python_arg_parser.cpp:698: UserWarning: This overload of add_ is deprecated:\n",
      "\tadd_(Number alpha, Tensor other)\n",
      "Consider using one of the following signatures instead:\n",
      "\tadd_(Tensor other, Number alpha)\n",
      "../torch/csrc/utils/python_arg_parser.cpp:698: UserWarning: This overload of add_ is deprecated:\n",
      "\tadd_(Number alpha, Tensor other)\n",
      "Consider using one of the following signatures instead:\n",
      "\tadd_(Tensor other, Number alpha)\n",
      "../torch/csrc/utils/python_arg_parser.cpp:698: UserWarning: This overload of add_ is deprecated:\n",
      "\tadd_(Number alpha, Tensor other)\n",
      "Consider using one of the following signatures instead:\n",
      "\tadd_(Tensor other, Number alpha)\n",
      "../torch/csrc/utils/python_arg_parser.cpp:698: UserWarning: This overload of add_ is deprecated:\n",
      "\tadd_(Number alpha, Tensor other)\n",
      "Consider using one of the following signatures instead:\n",
      "\tadd_(Tensor other, Number alpha)\n",
      "../torch/csrc/utils/python_arg_parser.cpp:698: UserWarning: This overload of add_ is deprecated:\n",
      "\tadd_(Number alpha, Tensor other)\n",
      "Consider using one of the following signatures instead:\n",
      "\tadd_(Tensor other, Number alpha)\n",
      "../torch/csrc/utils/python_arg_parser.cpp:698: UserWarning: This overload of add_ is deprecated:\n",
      "\tadd_(Number alpha, Tensor other)\n",
      "Consider using one of the following signatures instead:\n",
      "\tadd_(Tensor other, Number alpha)\n",
      "../torch/csrc/utils/python_arg_parser.cpp:698: UserWarning: This overload of add_ is deprecated:\n",
      "\tadd_(Number alpha, Tensor other)\n",
      "Consider using one of the following signatures instead:\n",
      "\tadd_(Tensor other, Number alpha)\n",
      "../torch/csrc/utils/python_arg_parser.cpp:698: UserWarning: This overload of add_ is deprecated:\n",
      "\tadd_(Number alpha, Tensor other)\n",
      "Consider using one of the following signatures instead:\n",
      "\tadd_(Tensor other, Number alpha)\n"
     ]
    },
    {
     "name": "stdout",
     "output_type": "stream",
     "text": [
      "Score:  200.0\n",
      "Solved!\n"
     ]
    },
    {
     "data": {
      "image/png": "[encoded data removed]",
      "text/plain": [
       "<Figure size 432x288 with 1 Axes>"
      ]
     },
     "metadata": {
      "needs_background": "light"
     },
     "output_type": "display_data"
    }
   ],
   "source": [
    "tmax = 200\n",
    "max_episodes = 1000\n",
    "n_env = mp.cpu_count()\n",
    "\n",
    "net_constructor = models.ACERModel\n",
    "net_args = (state_size, action_size,)\n",
    "\n",
    "env_constructor = gym.make\n",
    "env_args = (env_name,)\n",
    "# init agent:\n",
    "agent = ACER(net_constr=net_constructor,\n",
    "             net_args=net_args,\n",
    "             env_name=env_name,\n",
    "             env_constr=env_constructor,\n",
    "             env_args=env_args,\n",
    "             gamma=0.99, \n",
    "             replay_n=4,\n",
    "             lr=3e-4, \n",
    "             n_env=n_env,\n",
    "             normalize_rewards=False,\n",
    "             polyak_alpha=0.99,\n",
    "             trpo_theta=1,\n",
    "             use_trpo=True,\n",
    "             entropy_coefficient=1e-4,\n",
    "             memory_size_steps=1_000_000,\n",
    "             max_episodes=max_episodes,\n",
    "             max_episode_length=tmax,\n",
    "             max_traj_length=20, # max number of steps before training\n",
    "             start_off_policy=2000,\n",
    "             clip=10,\n",
    "             batch_size=64,\n",
    "             max_grad_norm=None,\n",
    "             seed=0,\n",
    "            )\n",
    "# train the agent\n",
    "scores = agent.train(max_score=195.0, alg_name=\"acer_{}\".format(env_name))\n",
    "\n",
    "# plot the training:\n",
    "x = np.arange(len(scores))\n",
    "scores = mean_filter(scores, filter_len=n_env)\n",
    "plt.plot(x, scores, label = \"scores\")\n",
    "plt.show()"
   ]
  },
  {
   "cell_type": "markdown",
   "metadata": {},
   "source": [
    "### 4.1 Trained Agent Demonstration"
   ]
  },
  {
   "cell_type": "code",
   "execution_count": 47,
   "metadata": {},
   "outputs": [
    {
     "name": "stdout",
     "output_type": "stream",
     "text": [
      "200.0\n",
      "200.0\n",
      "200.0\n",
      "200.0\n",
      "200.0\n"
     ]
    }
   ],
   "source": [
    "agent.test(n_episodes=5, max_t=200, render=True, deterministic=True)"
   ]
  },
  {
   "cell_type": "code",
   "execution_count": null,
   "metadata": {},
   "outputs": [],
   "source": []
  },
  {
   "cell_type": "markdown",
   "metadata": {},
   "source": [
    "## 5. ACER Continuous Test\n"
   ]
  },
  {
   "cell_type": "markdown",
   "metadata": {},
   "source": [
    "### 5.1 Trained Agent Demonstration"
   ]
  },
  {
   "cell_type": "code",
   "execution_count": null,
   "metadata": {},
   "outputs": [],
   "source": []
  }
 ],
 "metadata": {
  "kernelspec": {
   "display_name": "Python (ml-agents)",
   "language": "python",
   "name": "ml-agents"
  },
  "language_info": {
   "codemirror_mode": {
    "name": "ipython",
    "version": 3
   },
   "file_extension": ".py",
   "mimetype": "text/x-python",
   "name": "python",
   "nbconvert_exporter": "python",
   "pygments_lexer": "ipython3",
   "version": "3.6.10"
  }
 },
 "nbformat": 4,
 "nbformat_minor": 2
}
