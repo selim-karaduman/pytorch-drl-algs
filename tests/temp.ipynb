{
 "cells": [
  {
   "cell_type": "code",
   "execution_count": 3,
   "metadata": {},
   "outputs": [],
   "source": [
    "import sys; sys.path.insert(0, '..')\n",
    "\n",
    "import gym\n",
    "import sys\n",
    "import torch\n",
    "import tester\n",
    "import numpy as np\n",
    "import matplotlib.pyplot as plt\n",
    "from IPython.display import clear_output\n",
    "import scipy\n",
    "from scipy import sparse\n",
    "from scipy.sparse import linalg\n",
    "from pytorch_drl.utils.exploration import *\n",
    "from pytorch_drl.utils.schedule import *\n",
    "from pytorch_drl.utils.math import *\n",
    "from pytorch_drl.utils.model_utils import *\n",
    "from pytorch_drl.models.rainbow_models import DQNNetwork\n",
    "\n",
    "%matplotlib inline\n",
    "%load_ext autoreload\n",
    "%autoreload 2"
   ]
  },
  {
   "cell_type": "code",
   "execution_count": 2,
   "metadata": {},
   "outputs": [],
   "source": [
    "def plot(scores):\n",
    "    clear_output(True)\n",
    "    fig = plt.figure()\n",
    "    ax = fig.add_subplot(111)\n",
    "    plt.plot(np.arange(len(scores)), scores)\n",
    "    plt.ylabel('Score')\n",
    "    plt.xlabel('Episode')\n",
    "    plt.show()"
   ]
  },
  {
   "cell_type": "code",
   "execution_count": null,
   "metadata": {},
   "outputs": [],
   "source": [
    "s1 = LinearSchedule(1.0, 0.01, 10e5)\n",
    "plot([s1.step() for _ in range(int(10e5)+80000)])"
   ]
  },
  {
   "cell_type": "code",
   "execution_count": null,
   "metadata": {},
   "outputs": [],
   "source": [
    "s1 = ExpSchedule(0.4, 1.0, 10e2)\n",
    "plot([s1.step() for _ in range(int(10e2)+80)])\n",
    "s1 = ExpSchedule(0.4, 1.0, 10e5)\n",
    "plot([s1.step() for _ in range(int(10e5)+80000)])"
   ]
  },
  {
   "cell_type": "code",
   "execution_count": null,
   "metadata": {},
   "outputs": [],
   "source": [
    "s1 = ExpSchedule(1, 0.01, 3000)\n",
    "a2 = [s1.step() for _ in range(10000)]\n",
    "plot(a2)"
   ]
  },
  {
   "cell_type": "code",
   "execution_count": null,
   "metadata": {},
   "outputs": [],
   "source": [
    "s1 = LinearSchedule(0.2, 0.2, 123)\n",
    "plot([s1.step() for _ in range(int(10e5)+80000)])"
   ]
  },
  {
   "cell_type": "code",
   "execution_count": null,
   "metadata": {},
   "outputs": [],
   "source": [
    "\"\"\"\n",
    "μ = 1.2, σ = 0.3:\n",
    "blue: initial value a = 0 (a.s.)\n",
    "green: initial value a = 2 (a.s.)\n",
    "red: initial value normally distributed so that the process has invariant measure\n",
    "\n",
    "https://en.wikipedia.org/wiki/Ornstein%E2%80%93Uhlenbeck_process\n",
    "\"\"\"\n",
    "\n",
    "num_steps = 2e2\n",
    "x_size=np.array([0.]).shape\n",
    "ou_proc1 = OrnsteinUhlenbeck(x_size=x_size, mu=1.2, theta=1)\n",
    "ou_proc2 = OrnsteinUhlenbeck(x_size=x_size, mu=1.2, theta=1)\n",
    "ou_proc3 = OrnsteinUhlenbeck(x_size=x_size, mu=1.2, theta=1)\n",
    "\n",
    "m = num_steps + num_steps/1\n",
    "x1 = np.array([2.])\n",
    "ou_proc1.set(x1)\n",
    "\n",
    "path = [ou_proc1.step() for _ in range(int(m))]\n",
    "\n",
    "x2 = np.array([1.2])\n",
    "ou_proc2.set(x2)\n",
    "path2 = [ou_proc2.step() for _ in range(int(m))]\n",
    "\n",
    "\n",
    "x3 = np.array([0.])\n",
    "ou_proc3.set(x3)\n",
    "path3 = [ou_proc3.step() for _ in range(int(m))]\n",
    "\n",
    "plt.plot(np.arange(int(m)), path, color='g')\n",
    "plt.plot(np.arange(int(m)), path2, color='r')\n",
    "plt.plot(np.arange(int(m)), path3, color='b')"
   ]
  },
  {
   "cell_type": "markdown",
   "metadata": {},
   "source": [
    "### Exploration with annealing std"
   ]
  },
  {
   "cell_type": "code",
   "execution_count": null,
   "metadata": {},
   "outputs": [],
   "source": [
    "cs = 10\n",
    "num_steps = 1e4\n",
    "x_size=np.array([0.]).shape\n",
    "\n",
    "ou_proc1 = OrnsteinUhlenbeck(x_size=x_size, mu=0, theta=1,\n",
    "                            sigma_init=0.5, sigma_final=0.001, sigma_horizon=1e4)\n",
    "\n",
    "path = [ou_proc1.step() for _ in range(int(num_steps))]\n",
    "plt.plot(np.arange(int(num_steps)), path)"
   ]
  },
  {
   "cell_type": "code",
   "execution_count": null,
   "metadata": {},
   "outputs": [],
   "source": [
    "cs = 10\n",
    "num_steps = 2e3\n",
    "x_size=np.array([0.]).shape\n",
    "\n",
    "ou_proc1 = OrnsteinUhlenbeck(x_size=x_size, mu=0, theta=1,\n",
    "                            sigma_init=0.3, sigma_final=0.3, sigma_horizon=1)\n",
    "\n",
    "path = [ou_proc1.step() for _ in range(int(num_steps))]\n",
    "plt.plot(np.arange(int(num_steps)), path)"
   ]
  },
  {
   "cell_type": "code",
   "execution_count": null,
   "metadata": {},
   "outputs": [],
   "source": [
    "x_size=np.array([0.]).shape\n",
    "g_proc = Gaussian(x_size, mu=2., sigma_init=0.2, sigma_final=0.001, sigma_horizon=1000)\n",
    "num_steps = 1000*1.2\n",
    "path = [g_proc.step() for _ in range(int(num_steps))]\n",
    "plt.plot(np.arange(int(num_steps)), path)"
   ]
  },
  {
   "cell_type": "code",
   "execution_count": 4,
   "metadata": {},
   "outputs": [],
   "source": [
    "N = 100\n",
    "B = 64\n",
    "net = DQNNetwork(N, N)\n",
    "inp = torch.rand([B, N])\n",
    "target = torch.rand([B, N])\n",
    "NS = torch.cat([p.view(-1) for p in net.parameters()]).shape[0]\n",
    "rando = torch.rand([NS])"
   ]
  },
  {
   "cell_type": "code",
   "execution_count": null,
   "metadata": {},
   "outputs": [],
   "source": []
  }
 ],
 "metadata": {
  "kernelspec": {
   "display_name": "Python (ml-agents)",
   "language": "python",
   "name": "ml-agents"
  },
  "language_info": {
   "codemirror_mode": {
    "name": "ipython",
    "version": 3
   },
   "file_extension": ".py",
   "mimetype": "text/x-python",
   "name": "python",
   "nbconvert_exporter": "python",
   "pygments_lexer": "ipython3",
   "version": "3.6.10"
  }
 },
 "nbformat": 4,
 "nbformat_minor": 2
}
